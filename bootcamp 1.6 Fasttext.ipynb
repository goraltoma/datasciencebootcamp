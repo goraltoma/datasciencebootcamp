{
 "cells": [
  {
   "cell_type": "markdown",
   "metadata": {},
   "source": [
    "###### link Kaggle Bałanda  \n",
    "https://www.kaggle.com/twistplot/cs-go-competitive-scene-insights-match-prediction\n",
    "\n"
   ]
  },
  {
   "cell_type": "markdown",
   "metadata": {},
   "source": [
    "###### pełny tutorial  \n",
    "https://zablo.net/blog/post/twitter-sentiment-analysis-python-scikit-word2vec-nltk-xgboost  \n",
    "\n",
    "https://www.analyticsvidhya.com/blog/2018/07/hands-on-sentiment-analysis-dataset-python/  \n",
    "\n"
   ]
  },
  {
   "cell_type": "markdown",
   "metadata": {},
   "source": [
    "# Sentiment analysis on Twitter data - word embeddings, pre-trained models, GloVe, fastText, Keras"
   ]
  },
  {
   "cell_type": "markdown",
   "metadata": {},
   "source": [
    "1. Project description  \n",
    "1.1. Introduction  \n",
    "1.2. Abstract  \n",
    "\n",
    "\n",
    "2. Exploratory Data Analysis  \n",
    "2.1.  Loading data - NLTK's twitter corpus  \n",
    "2.2.  Tokenization\n",
    "\n",
    "\n",
    "    - data loading\n",
    "    - data distribution\n",
    "    - missing values\n",
    "    - statistical data\n",
    "\n",
    "\n",
    "3. Data Preprocessing (Feature engineering)\n",
    "    - data cleaning\n",
    "    - stemming, stopword removal\n",
    "    - count vectorizer\n",
    "    - word list\n",
    "\n",
    "\n",
    "4. Data visualization\n",
    "    - word cloud  \n",
    "    \n",
    "\n",
    "5. Simple 'classic model' for sentiment analysis using NLTK  \n",
    "albo LSTM  \n",
    "https://www.kaggle.com/ngyptr/lstm-sentiment-analysis-keras\n",
    "\n",
    "\n",
    "\n",
    "6. Finding baseline\n",
    "    - TextBlob (out-of-the-box sentiment analysis tool)\n",
    "\n",
    "\n",
    "7. Sentiment Analysis using pre-trained models in Keras\n",
    "    - embeddings GloVe\n",
    "    - fastText (Facebook)  (performance vs accuracy)\n",
    "\n",
    "\n",
    "8. Summary\n",
    "  "
   ]
  },
  {
   "cell_type": "code",
   "execution_count": null,
   "metadata": {},
   "outputs": [],
   "source": []
  },
  {
   "cell_type": "code",
   "execution_count": null,
   "metadata": {},
   "outputs": [],
   "source": []
  },
  {
   "cell_type": "markdown",
   "metadata": {},
   "source": [
    "## 1. Project description  "
   ]
  },
  {
   "cell_type": "markdown",
   "metadata": {},
   "source": [
    "### 1.1.  Introduction\n",
    "\n",
    "  "
   ]
  },
  {
   "cell_type": "markdown",
   "metadata": {},
   "source": [
    "Text-based communication has become one of the most common forms of expression. We email, text message, tweet, and update our statuses on a daily basis. As a result, unstructured text data has become extremely common, and analyzing large quantities of text data is now a key way to understand what people are thinking.\n",
    "\n",
    "Tweets on Twitter help us find trending news topics in the world. Reviews on Amazon help users purchase the best-rated products. These examples of organizing and structuring knowledge represent **Natural Language Processing (NLP)** tasks.\n",
    "\n",
    "NLP is a field of computer science that focuses on the interaction between computers and humans. NLP techniques are used to analyze text, providing a way for computers to understand human language. A few examples of NLP applications include automatic summarization, topic segmentation, and **sentiment analysis**."
   ]
  },
  {
   "cell_type": "markdown",
   "metadata": {},
   "source": [
    "### 1.2.  Abstract"
   ]
  },
  {
   "cell_type": "markdown",
   "metadata": {},
   "source": [
    "The goal of this project is to predict sentiment for the given Twitter post using Python. Sentiment analysis can predict many different emotions attached to the text.\n",
    "\n",
    "\n",
    "**Sentiment Analysis:** the process of computationally identifying and categorizing opinions expressed in a piece of text, especially in order to determine whether the writer's attitude towards a particular topic, product, etc. is positive, negative, or neutral. It’s also known as opinion mining, deriving the opinion or attitude of a speaker."
   ]
  },
  {
   "cell_type": "markdown",
   "metadata": {},
   "source": [
    "In this project only 2 major are considered: positive and negative. The training dataset is small, 10000 examples (5000 for each group).  "
   ]
  },
  {
   "cell_type": "markdown",
   "metadata": {},
   "source": [
    "*After creating a lot of custom features, utilizing both bag-of-words and word2vec representations and applying the Extreme Gradient Boosting algorithm, the classification accuracy at level of 58% was achieved.*"
   ]
  },
  {
   "cell_type": "code",
   "execution_count": null,
   "metadata": {},
   "outputs": [],
   "source": []
  },
  {
   "cell_type": "markdown",
   "metadata": {},
   "source": [
    "\n",
    "## 2. Exploratory Data Analysis  \n",
    "\n",
    "https://towardsdatascience.com/the-real-world-as-seen-on-twitter-sentiment-analysis-part-one-5ac2d06b63fbn \n",
    "\n",
    "https://towardsdatascience.com/the-real-world-as-seen-on-twitter-sentiment-analysis-part-one-5ac2d06b63fb  \n",
    "\n",
    "https://medium.com/coinmonks/solving-twitter-sentiment-analysis-problem-on-analytics-vidhya-ea3e51eea521   \n",
    "\n",
    "https://www.digitalocean.com/community/tutorials/how-to-work-with-language-data-in-python-3-using-the-natural-language-toolkit-nltk  \n",
    "\n",
    "\n",
    "\n"
   ]
  },
  {
   "cell_type": "markdown",
   "metadata": {},
   "source": [
    "#### Importing libraries"
   ]
  },
  {
   "cell_type": "markdown",
   "metadata": {},
   "source": [
    "import pandas as pd  \n",
    "import numpy as np  \n",
    "import nltk  \n",
    "import matplotlib.pyplot as plt  \n",
    "from bs4 import BeautifulSoup  \n",
    "from nltk.tokenize import WordPunctTokenizer, TweetTokenizer  \n",
    "import re  \n",
    "from wordcloud import WordCloud  \n",
    "from os import path  \n",
    "from PIL import Image  \n",
    "from sklearn.feature_extraction.text import CountVectorizer  \n"
   ]
  },
  {
   "cell_type": "markdown",
   "metadata": {},
   "source": [
    "### 2.1.  Loading data - NLTK's twitter corpus"
   ]
  },
  {
   "cell_type": "markdown",
   "metadata": {},
   "source": [
    "In this project, I will use a Twitter corpus that can be downloaded through NLTK. Natural Language Toolkit (NLTK) Twitter corpus currently contains a sample of 20k Tweets (named 'twitter_samples') retrieved from the Twitter Streaming API, together with another 10k which are divided according to sentiment into negative and positive.\n",
    "Full tweets are stored as line-separated JSON.   \n",
    "The NLTK's twitter_samples corpus can be downloaded through the command line."
   ]
  },
  {
   "cell_type": "code",
   "execution_count": 1,
   "metadata": {},
   "outputs": [
    {
     "name": "stdout",
     "output_type": "stream",
     "text": [
      "[nltk_data] Downloading package twitter_samples to ./data...\n",
      "[nltk_data]   Package twitter_samples is already up-to-date!\n"
     ]
    },
    {
     "data": {
      "text/plain": [
       "['negative_tweets.json', 'positive_tweets.json', 'tweets.20150430-223406.json']"
      ]
     },
     "execution_count": 1,
     "metadata": {},
     "output_type": "execute_result"
    }
   ],
   "source": [
    "import nltk\n",
    "from nltk.corpus import twitter_samples\n",
    "nltk.download('twitter_samples', download_dir='./data')\n",
    "\n",
    "\n",
    "#We can see how many JSON files exist in the corpus using the twitter_samples.fileids() method:\n",
    "twitter_samples.fileids()"
   ]
  },
  {
   "cell_type": "markdown",
   "metadata": {},
   "source": []
  },
  {
   "cell_type": "markdown",
   "metadata": {},
   "source": [
    "**Show Tweets' data**"
   ]
  },
  {
   "cell_type": "markdown",
   "metadata": {},
   "source": []
  },
  {
   "cell_type": "code",
   "execution_count": 2,
   "metadata": {
    "scrolled": false
   },
   "outputs": [
    {
     "data": {
      "text/html": [
       "<div>\n",
       "<style scoped>\n",
       "    .dataframe tbody tr th:only-of-type {\n",
       "        vertical-align: middle;\n",
       "    }\n",
       "\n",
       "    .dataframe tbody tr th {\n",
       "        vertical-align: top;\n",
       "    }\n",
       "\n",
       "    .dataframe thead th {\n",
       "        text-align: right;\n",
       "    }\n",
       "</style>\n",
       "<table border=\"1\" class=\"dataframe\">\n",
       "  <thead>\n",
       "    <tr style=\"text-align: right;\">\n",
       "      <th></th>\n",
       "      <th>contributors</th>\n",
       "      <th>coordinates</th>\n",
       "      <th>created_at</th>\n",
       "      <th>entities</th>\n",
       "      <th>favorite_count</th>\n",
       "      <th>favorited</th>\n",
       "      <th>geo</th>\n",
       "      <th>id</th>\n",
       "      <th>id_str</th>\n",
       "      <th>in_reply_to_screen_name</th>\n",
       "      <th>in_reply_to_status_id</th>\n",
       "      <th>in_reply_to_status_id_str</th>\n",
       "      <th>in_reply_to_user_id</th>\n",
       "      <th>in_reply_to_user_id_str</th>\n",
       "      <th>is_quote_status</th>\n",
       "      <th>lang</th>\n",
       "      <th>metadata</th>\n",
       "      <th>place</th>\n",
       "      <th>possibly_sensitive</th>\n",
       "      <th>quoted_status</th>\n",
       "      <th>quoted_status_id</th>\n",
       "      <th>quoted_status_id_str</th>\n",
       "      <th>retweet_count</th>\n",
       "      <th>retweeted</th>\n",
       "      <th>source</th>\n",
       "      <th>text</th>\n",
       "      <th>truncated</th>\n",
       "      <th>user</th>\n",
       "    </tr>\n",
       "  </thead>\n",
       "  <tbody>\n",
       "    <tr>\n",
       "      <th>0</th>\n",
       "      <td>NaN</td>\n",
       "      <td>None</td>\n",
       "      <td>2015-07-24 10:42:49</td>\n",
       "      <td>{'hashtags': [], 'user_mentions': [], 'urls': ...</td>\n",
       "      <td>0</td>\n",
       "      <td>False</td>\n",
       "      <td>None</td>\n",
       "      <td>624530164626534400</td>\n",
       "      <td>624530164626534400</td>\n",
       "      <td>None</td>\n",
       "      <td>NaN</td>\n",
       "      <td>NaN</td>\n",
       "      <td>NaN</td>\n",
       "      <td>NaN</td>\n",
       "      <td>False</td>\n",
       "      <td>en</td>\n",
       "      <td>{'iso_language_code': 'en', 'result_type': 're...</td>\n",
       "      <td>None</td>\n",
       "      <td>NaN</td>\n",
       "      <td>NaN</td>\n",
       "      <td>NaN</td>\n",
       "      <td>NaN</td>\n",
       "      <td>0</td>\n",
       "      <td>False</td>\n",
       "      <td>&lt;a href=\"https://mobile.twitter.com\" rel=\"nofo...</td>\n",
       "      <td>hopeless for tmr :(</td>\n",
       "      <td>False</td>\n",
       "      <td>{'screen_name': 'yuwraxkim', 'time_zone': 'Jak...</td>\n",
       "    </tr>\n",
       "    <tr>\n",
       "      <th>1</th>\n",
       "      <td>NaN</td>\n",
       "      <td>None</td>\n",
       "      <td>2015-07-24 10:42:48</td>\n",
       "      <td>{'hashtags': [], 'user_mentions': [], 'urls': ...</td>\n",
       "      <td>0</td>\n",
       "      <td>False</td>\n",
       "      <td>None</td>\n",
       "      <td>624530162890219521</td>\n",
       "      <td>624530162890219520</td>\n",
       "      <td>None</td>\n",
       "      <td>NaN</td>\n",
       "      <td>NaN</td>\n",
       "      <td>NaN</td>\n",
       "      <td>NaN</td>\n",
       "      <td>False</td>\n",
       "      <td>en</td>\n",
       "      <td>{'iso_language_code': 'en', 'result_type': 're...</td>\n",
       "      <td>None</td>\n",
       "      <td>NaN</td>\n",
       "      <td>NaN</td>\n",
       "      <td>NaN</td>\n",
       "      <td>NaN</td>\n",
       "      <td>0</td>\n",
       "      <td>False</td>\n",
       "      <td>&lt;a href=\"http://twitter.com/download/iphone\" r...</td>\n",
       "      <td>Everything in the kids section of IKEA is so c...</td>\n",
       "      <td>False</td>\n",
       "      <td>{'screen_name': 'EveHollyHousley', 'time_zone'...</td>\n",
       "    </tr>\n",
       "    <tr>\n",
       "      <th>...</th>\n",
       "      <td>...</td>\n",
       "      <td>...</td>\n",
       "      <td>...</td>\n",
       "      <td>...</td>\n",
       "      <td>...</td>\n",
       "      <td>...</td>\n",
       "      <td>...</td>\n",
       "      <td>...</td>\n",
       "      <td>...</td>\n",
       "      <td>...</td>\n",
       "      <td>...</td>\n",
       "      <td>...</td>\n",
       "      <td>...</td>\n",
       "      <td>...</td>\n",
       "      <td>...</td>\n",
       "      <td>...</td>\n",
       "      <td>...</td>\n",
       "      <td>...</td>\n",
       "      <td>...</td>\n",
       "      <td>...</td>\n",
       "      <td>...</td>\n",
       "      <td>...</td>\n",
       "      <td>...</td>\n",
       "      <td>...</td>\n",
       "      <td>...</td>\n",
       "      <td>...</td>\n",
       "      <td>...</td>\n",
       "      <td>...</td>\n",
       "    </tr>\n",
       "    <tr>\n",
       "      <th>4998</th>\n",
       "      <td>NaN</td>\n",
       "      <td>None</td>\n",
       "      <td>2015-07-24 09:49:38</td>\n",
       "      <td>{'hashtags': [], 'user_mentions': [], 'urls': ...</td>\n",
       "      <td>2</td>\n",
       "      <td>False</td>\n",
       "      <td>None</td>\n",
       "      <td>624516784226340864</td>\n",
       "      <td>624516784226340864</td>\n",
       "      <td>None</td>\n",
       "      <td>NaN</td>\n",
       "      <td>NaN</td>\n",
       "      <td>NaN</td>\n",
       "      <td>NaN</td>\n",
       "      <td>True</td>\n",
       "      <td>en</td>\n",
       "      <td>{'iso_language_code': 'en', 'result_type': 're...</td>\n",
       "      <td>None</td>\n",
       "      <td>0.0</td>\n",
       "      <td>{'contributors': None, 'coordinates': None, 't...</td>\n",
       "      <td>6.244883e+17</td>\n",
       "      <td>6.244883e+17</td>\n",
       "      <td>0</td>\n",
       "      <td>False</td>\n",
       "      <td>&lt;a href=\"http://twitter.com/download/android\" ...</td>\n",
       "      <td>But but Mr Ahmad Maslan cooks too :( https://t...</td>\n",
       "      <td>False</td>\n",
       "      <td>{'screen_name': 'syafiqqah', 'time_zone': 'Kua...</td>\n",
       "    </tr>\n",
       "    <tr>\n",
       "      <th>4999</th>\n",
       "      <td>NaN</td>\n",
       "      <td>None</td>\n",
       "      <td>2015-07-24 09:49:38</td>\n",
       "      <td>{'hashtags': [], 'user_mentions': [{'id_str': ...</td>\n",
       "      <td>0</td>\n",
       "      <td>False</td>\n",
       "      <td>None</td>\n",
       "      <td>624516782557151232</td>\n",
       "      <td>624516782557151232</td>\n",
       "      <td>eawoman</td>\n",
       "      <td>6.245120e+17</td>\n",
       "      <td>6.245120e+17</td>\n",
       "      <td>289534486.0</td>\n",
       "      <td>289534486.0</td>\n",
       "      <td>False</td>\n",
       "      <td>en</td>\n",
       "      <td>{'iso_language_code': 'en', 'result_type': 're...</td>\n",
       "      <td>{'place_type': 'city', 'full_name': 'Leeds, En...</td>\n",
       "      <td>NaN</td>\n",
       "      <td>NaN</td>\n",
       "      <td>NaN</td>\n",
       "      <td>NaN</td>\n",
       "      <td>0</td>\n",
       "      <td>False</td>\n",
       "      <td>&lt;a href=\"http://twitter.com/download/android\" ...</td>\n",
       "      <td>@eawoman As a Hull supporter I am expecting a ...</td>\n",
       "      <td>False</td>\n",
       "      <td>{'screen_name': 'AndrewByrom1', 'time_zone': N...</td>\n",
       "    </tr>\n",
       "  </tbody>\n",
       "</table>\n",
       "<p>5000 rows × 28 columns</p>\n",
       "</div>"
      ],
      "text/plain": [
       "      contributors coordinates          created_at  \\\n",
       "0              NaN        None 2015-07-24 10:42:49   \n",
       "1              NaN        None 2015-07-24 10:42:48   \n",
       "...            ...         ...                 ...   \n",
       "4998           NaN        None 2015-07-24 09:49:38   \n",
       "4999           NaN        None 2015-07-24 09:49:38   \n",
       "\n",
       "                                               entities  favorite_count  \\\n",
       "0     {'hashtags': [], 'user_mentions': [], 'urls': ...               0   \n",
       "1     {'hashtags': [], 'user_mentions': [], 'urls': ...               0   \n",
       "...                                                 ...             ...   \n",
       "4998  {'hashtags': [], 'user_mentions': [], 'urls': ...               2   \n",
       "4999  {'hashtags': [], 'user_mentions': [{'id_str': ...               0   \n",
       "\n",
       "      favorited   geo                  id              id_str  \\\n",
       "0         False  None  624530164626534400  624530164626534400   \n",
       "1         False  None  624530162890219521  624530162890219520   \n",
       "...         ...   ...                 ...                 ...   \n",
       "4998      False  None  624516784226340864  624516784226340864   \n",
       "4999      False  None  624516782557151232  624516782557151232   \n",
       "\n",
       "     in_reply_to_screen_name  in_reply_to_status_id  \\\n",
       "0                       None                    NaN   \n",
       "1                       None                    NaN   \n",
       "...                      ...                    ...   \n",
       "4998                    None                    NaN   \n",
       "4999                 eawoman           6.245120e+17   \n",
       "\n",
       "      in_reply_to_status_id_str  in_reply_to_user_id  in_reply_to_user_id_str  \\\n",
       "0                           NaN                  NaN                      NaN   \n",
       "1                           NaN                  NaN                      NaN   \n",
       "...                         ...                  ...                      ...   \n",
       "4998                        NaN                  NaN                      NaN   \n",
       "4999               6.245120e+17          289534486.0              289534486.0   \n",
       "\n",
       "      is_quote_status lang                                           metadata  \\\n",
       "0               False   en  {'iso_language_code': 'en', 'result_type': 're...   \n",
       "1               False   en  {'iso_language_code': 'en', 'result_type': 're...   \n",
       "...               ...  ...                                                ...   \n",
       "4998             True   en  {'iso_language_code': 'en', 'result_type': 're...   \n",
       "4999            False   en  {'iso_language_code': 'en', 'result_type': 're...   \n",
       "\n",
       "                                                  place  possibly_sensitive  \\\n",
       "0                                                  None                 NaN   \n",
       "1                                                  None                 NaN   \n",
       "...                                                 ...                 ...   \n",
       "4998                                               None                 0.0   \n",
       "4999  {'place_type': 'city', 'full_name': 'Leeds, En...                 NaN   \n",
       "\n",
       "                                          quoted_status  quoted_status_id  \\\n",
       "0                                                   NaN               NaN   \n",
       "1                                                   NaN               NaN   \n",
       "...                                                 ...               ...   \n",
       "4998  {'contributors': None, 'coordinates': None, 't...      6.244883e+17   \n",
       "4999                                                NaN               NaN   \n",
       "\n",
       "      quoted_status_id_str  retweet_count  retweeted  \\\n",
       "0                      NaN              0      False   \n",
       "1                      NaN              0      False   \n",
       "...                    ...            ...        ...   \n",
       "4998          6.244883e+17              0      False   \n",
       "4999                   NaN              0      False   \n",
       "\n",
       "                                                 source  \\\n",
       "0     <a href=\"https://mobile.twitter.com\" rel=\"nofo...   \n",
       "1     <a href=\"http://twitter.com/download/iphone\" r...   \n",
       "...                                                 ...   \n",
       "4998  <a href=\"http://twitter.com/download/android\" ...   \n",
       "4999  <a href=\"http://twitter.com/download/android\" ...   \n",
       "\n",
       "                                                   text  truncated  \\\n",
       "0                                   hopeless for tmr :(      False   \n",
       "1     Everything in the kids section of IKEA is so c...      False   \n",
       "...                                                 ...        ...   \n",
       "4998  But but Mr Ahmad Maslan cooks too :( https://t...      False   \n",
       "4999  @eawoman As a Hull supporter I am expecting a ...      False   \n",
       "\n",
       "                                                   user  \n",
       "0     {'screen_name': 'yuwraxkim', 'time_zone': 'Jak...  \n",
       "1     {'screen_name': 'EveHollyHousley', 'time_zone'...  \n",
       "...                                                 ...  \n",
       "4998  {'screen_name': 'syafiqqah', 'time_zone': 'Kua...  \n",
       "4999  {'screen_name': 'AndrewByrom1', 'time_zone': N...  \n",
       "\n",
       "[5000 rows x 28 columns]"
      ]
     },
     "metadata": {},
     "output_type": "display_data"
    }
   ],
   "source": [
    "import pandas as pd\n",
    "\n",
    "\n",
    "# show negative tweets\n",
    "# temporarily display all columns in the data set \n",
    "with pd.option_context('display.max_rows', 4, 'display.max_columns', 99):\n",
    "    display(pd.read_json('data/corpora/twitter_samples/negative_tweets.json', lines=True))"
   ]
  },
  {
   "cell_type": "code",
   "execution_count": 3,
   "metadata": {
    "scrolled": false
   },
   "outputs": [
    {
     "data": {
      "text/html": [
       "<div>\n",
       "<style scoped>\n",
       "    .dataframe tbody tr th:only-of-type {\n",
       "        vertical-align: middle;\n",
       "    }\n",
       "\n",
       "    .dataframe tbody tr th {\n",
       "        vertical-align: top;\n",
       "    }\n",
       "\n",
       "    .dataframe thead th {\n",
       "        text-align: right;\n",
       "    }\n",
       "</style>\n",
       "<table border=\"1\" class=\"dataframe\">\n",
       "  <thead>\n",
       "    <tr style=\"text-align: right;\">\n",
       "      <th></th>\n",
       "      <th>contributors</th>\n",
       "      <th>coordinates</th>\n",
       "      <th>created_at</th>\n",
       "      <th>entities</th>\n",
       "      <th>favorite_count</th>\n",
       "      <th>favorited</th>\n",
       "      <th>geo</th>\n",
       "      <th>id</th>\n",
       "      <th>id_str</th>\n",
       "      <th>in_reply_to_screen_name</th>\n",
       "      <th>in_reply_to_status_id</th>\n",
       "      <th>in_reply_to_status_id_str</th>\n",
       "      <th>in_reply_to_user_id</th>\n",
       "      <th>in_reply_to_user_id_str</th>\n",
       "      <th>is_quote_status</th>\n",
       "      <th>lang</th>\n",
       "      <th>metadata</th>\n",
       "      <th>place</th>\n",
       "      <th>possibly_sensitive</th>\n",
       "      <th>quoted_status</th>\n",
       "      <th>quoted_status_id</th>\n",
       "      <th>quoted_status_id_str</th>\n",
       "      <th>retweet_count</th>\n",
       "      <th>retweeted</th>\n",
       "      <th>source</th>\n",
       "      <th>text</th>\n",
       "      <th>truncated</th>\n",
       "      <th>user</th>\n",
       "    </tr>\n",
       "  </thead>\n",
       "  <tbody>\n",
       "    <tr>\n",
       "      <th>0</th>\n",
       "      <td>NaN</td>\n",
       "      <td>None</td>\n",
       "      <td>2015-07-24 08:23:36</td>\n",
       "      <td>{'hashtags': [{'indices': [0, 13], 'text': 'Fo...</td>\n",
       "      <td>0</td>\n",
       "      <td>False</td>\n",
       "      <td>None</td>\n",
       "      <td>624495129303351296</td>\n",
       "      <td>624495129303351296</td>\n",
       "      <td>None</td>\n",
       "      <td>NaN</td>\n",
       "      <td>NaN</td>\n",
       "      <td>NaN</td>\n",
       "      <td>NaN</td>\n",
       "      <td>False</td>\n",
       "      <td>en</td>\n",
       "      <td>{'iso_language_code': 'en', 'result_type': 're...</td>\n",
       "      <td>None</td>\n",
       "      <td>NaN</td>\n",
       "      <td>NaN</td>\n",
       "      <td>NaN</td>\n",
       "      <td>NaN</td>\n",
       "      <td>0</td>\n",
       "      <td>False</td>\n",
       "      <td>&lt;a href=\"https://commun.it\" rel=\"nofollow\"&gt;Com...</td>\n",
       "      <td>#FollowFriday @France_Inte @PKuchly57 @Milipol...</td>\n",
       "      <td>False</td>\n",
       "      <td>{'time_zone': 'Paris', 'profile_background_ima...</td>\n",
       "    </tr>\n",
       "    <tr>\n",
       "      <th>1</th>\n",
       "      <td>NaN</td>\n",
       "      <td>None</td>\n",
       "      <td>2015-07-24 08:23:35</td>\n",
       "      <td>{'hashtags': [], 'user_mentions': [{'screen_na...</td>\n",
       "      <td>0</td>\n",
       "      <td>False</td>\n",
       "      <td>None</td>\n",
       "      <td>624495128510656513</td>\n",
       "      <td>624495128510656512</td>\n",
       "      <td>Lamb2ja</td>\n",
       "      <td>6.243353e+17</td>\n",
       "      <td>6.243353e+17</td>\n",
       "      <td>1.945884e+07</td>\n",
       "      <td>1.945884e+07</td>\n",
       "      <td>False</td>\n",
       "      <td>en</td>\n",
       "      <td>{'iso_language_code': 'en', 'result_type': 're...</td>\n",
       "      <td>None</td>\n",
       "      <td>NaN</td>\n",
       "      <td>NaN</td>\n",
       "      <td>NaN</td>\n",
       "      <td>NaN</td>\n",
       "      <td>0</td>\n",
       "      <td>False</td>\n",
       "      <td>&lt;a href=\"http://twitter.com\" rel=\"nofollow\"&gt;Tw...</td>\n",
       "      <td>@Lamb2ja Hey James! How odd :/ Please call our...</td>\n",
       "      <td>False</td>\n",
       "      <td>{'time_zone': 'London', 'profile_background_im...</td>\n",
       "    </tr>\n",
       "    <tr>\n",
       "      <th>...</th>\n",
       "      <td>...</td>\n",
       "      <td>...</td>\n",
       "      <td>...</td>\n",
       "      <td>...</td>\n",
       "      <td>...</td>\n",
       "      <td>...</td>\n",
       "      <td>...</td>\n",
       "      <td>...</td>\n",
       "      <td>...</td>\n",
       "      <td>...</td>\n",
       "      <td>...</td>\n",
       "      <td>...</td>\n",
       "      <td>...</td>\n",
       "      <td>...</td>\n",
       "      <td>...</td>\n",
       "      <td>...</td>\n",
       "      <td>...</td>\n",
       "      <td>...</td>\n",
       "      <td>...</td>\n",
       "      <td>...</td>\n",
       "      <td>...</td>\n",
       "      <td>...</td>\n",
       "      <td>...</td>\n",
       "      <td>...</td>\n",
       "      <td>...</td>\n",
       "      <td>...</td>\n",
       "      <td>...</td>\n",
       "      <td>...</td>\n",
       "    </tr>\n",
       "    <tr>\n",
       "      <th>4998</th>\n",
       "      <td>NaN</td>\n",
       "      <td>None</td>\n",
       "      <td>2015-07-24 08:11:16</td>\n",
       "      <td>{'media': [{'media_url': 'http://pbs.twimg.com...</td>\n",
       "      <td>0</td>\n",
       "      <td>False</td>\n",
       "      <td>None</td>\n",
       "      <td>624492027107868672</td>\n",
       "      <td>624492027107868672</td>\n",
       "      <td>staybubbly69</td>\n",
       "      <td>NaN</td>\n",
       "      <td>NaN</td>\n",
       "      <td>3.138322e+09</td>\n",
       "      <td>3.138322e+09</td>\n",
       "      <td>False</td>\n",
       "      <td>en</td>\n",
       "      <td>{'iso_language_code': 'en', 'result_type': 're...</td>\n",
       "      <td>None</td>\n",
       "      <td>0.0</td>\n",
       "      <td>NaN</td>\n",
       "      <td>NaN</td>\n",
       "      <td>NaN</td>\n",
       "      <td>0</td>\n",
       "      <td>False</td>\n",
       "      <td>&lt;a href=\"http://twitter.com/download/iphone\" r...</td>\n",
       "      <td>@staybubbly69 as Matt would say. WELCOME TO AD...</td>\n",
       "      <td>False</td>\n",
       "      <td>{'time_zone': None, 'profile_background_image_...</td>\n",
       "    </tr>\n",
       "    <tr>\n",
       "      <th>4999</th>\n",
       "      <td>NaN</td>\n",
       "      <td>None</td>\n",
       "      <td>2015-07-24 08:11:16</td>\n",
       "      <td>{'hashtags': [], 'user_mentions': [{'screen_na...</td>\n",
       "      <td>0</td>\n",
       "      <td>False</td>\n",
       "      <td>None</td>\n",
       "      <td>624492026386624512</td>\n",
       "      <td>624492026386624512</td>\n",
       "      <td>DanielOConnel18</td>\n",
       "      <td>6.244918e+17</td>\n",
       "      <td>6.244918e+17</td>\n",
       "      <td>5.580347e+08</td>\n",
       "      <td>5.580347e+08</td>\n",
       "      <td>False</td>\n",
       "      <td>en</td>\n",
       "      <td>{'iso_language_code': 'en', 'result_type': 're...</td>\n",
       "      <td>None</td>\n",
       "      <td>NaN</td>\n",
       "      <td>NaN</td>\n",
       "      <td>NaN</td>\n",
       "      <td>NaN</td>\n",
       "      <td>0</td>\n",
       "      <td>False</td>\n",
       "      <td>&lt;a href=\"https://about.twitter.com/products/tw...</td>\n",
       "      <td>@DanielOConnel18 you could say he will have eg...</td>\n",
       "      <td>False</td>\n",
       "      <td>{'time_zone': 'Edinburgh', 'profile_background...</td>\n",
       "    </tr>\n",
       "  </tbody>\n",
       "</table>\n",
       "<p>5000 rows × 28 columns</p>\n",
       "</div>"
      ],
      "text/plain": [
       "      contributors coordinates          created_at  \\\n",
       "0              NaN        None 2015-07-24 08:23:36   \n",
       "1              NaN        None 2015-07-24 08:23:35   \n",
       "...            ...         ...                 ...   \n",
       "4998           NaN        None 2015-07-24 08:11:16   \n",
       "4999           NaN        None 2015-07-24 08:11:16   \n",
       "\n",
       "                                               entities  favorite_count  \\\n",
       "0     {'hashtags': [{'indices': [0, 13], 'text': 'Fo...               0   \n",
       "1     {'hashtags': [], 'user_mentions': [{'screen_na...               0   \n",
       "...                                                 ...             ...   \n",
       "4998  {'media': [{'media_url': 'http://pbs.twimg.com...               0   \n",
       "4999  {'hashtags': [], 'user_mentions': [{'screen_na...               0   \n",
       "\n",
       "      favorited   geo                  id              id_str  \\\n",
       "0         False  None  624495129303351296  624495129303351296   \n",
       "1         False  None  624495128510656513  624495128510656512   \n",
       "...         ...   ...                 ...                 ...   \n",
       "4998      False  None  624492027107868672  624492027107868672   \n",
       "4999      False  None  624492026386624512  624492026386624512   \n",
       "\n",
       "     in_reply_to_screen_name  in_reply_to_status_id  \\\n",
       "0                       None                    NaN   \n",
       "1                    Lamb2ja           6.243353e+17   \n",
       "...                      ...                    ...   \n",
       "4998            staybubbly69                    NaN   \n",
       "4999         DanielOConnel18           6.244918e+17   \n",
       "\n",
       "      in_reply_to_status_id_str  in_reply_to_user_id  in_reply_to_user_id_str  \\\n",
       "0                           NaN                  NaN                      NaN   \n",
       "1                  6.243353e+17         1.945884e+07             1.945884e+07   \n",
       "...                         ...                  ...                      ...   \n",
       "4998                        NaN         3.138322e+09             3.138322e+09   \n",
       "4999               6.244918e+17         5.580347e+08             5.580347e+08   \n",
       "\n",
       "      is_quote_status lang                                           metadata  \\\n",
       "0               False   en  {'iso_language_code': 'en', 'result_type': 're...   \n",
       "1               False   en  {'iso_language_code': 'en', 'result_type': 're...   \n",
       "...               ...  ...                                                ...   \n",
       "4998            False   en  {'iso_language_code': 'en', 'result_type': 're...   \n",
       "4999            False   en  {'iso_language_code': 'en', 'result_type': 're...   \n",
       "\n",
       "     place  possibly_sensitive quoted_status  quoted_status_id  \\\n",
       "0     None                 NaN           NaN               NaN   \n",
       "1     None                 NaN           NaN               NaN   \n",
       "...    ...                 ...           ...               ...   \n",
       "4998  None                 0.0           NaN               NaN   \n",
       "4999  None                 NaN           NaN               NaN   \n",
       "\n",
       "      quoted_status_id_str  retweet_count  retweeted  \\\n",
       "0                      NaN              0      False   \n",
       "1                      NaN              0      False   \n",
       "...                    ...            ...        ...   \n",
       "4998                   NaN              0      False   \n",
       "4999                   NaN              0      False   \n",
       "\n",
       "                                                 source  \\\n",
       "0     <a href=\"https://commun.it\" rel=\"nofollow\">Com...   \n",
       "1     <a href=\"http://twitter.com\" rel=\"nofollow\">Tw...   \n",
       "...                                                 ...   \n",
       "4998  <a href=\"http://twitter.com/download/iphone\" r...   \n",
       "4999  <a href=\"https://about.twitter.com/products/tw...   \n",
       "\n",
       "                                                   text  truncated  \\\n",
       "0     #FollowFriday @France_Inte @PKuchly57 @Milipol...      False   \n",
       "1     @Lamb2ja Hey James! How odd :/ Please call our...      False   \n",
       "...                                                 ...        ...   \n",
       "4998  @staybubbly69 as Matt would say. WELCOME TO AD...      False   \n",
       "4999  @DanielOConnel18 you could say he will have eg...      False   \n",
       "\n",
       "                                                   user  \n",
       "0     {'time_zone': 'Paris', 'profile_background_ima...  \n",
       "1     {'time_zone': 'London', 'profile_background_im...  \n",
       "...                                                 ...  \n",
       "4998  {'time_zone': None, 'profile_background_image_...  \n",
       "4999  {'time_zone': 'Edinburgh', 'profile_background...  \n",
       "\n",
       "[5000 rows x 28 columns]"
      ]
     },
     "metadata": {},
     "output_type": "display_data"
    }
   ],
   "source": [
    "# show positive tweets\n",
    "# temporarily display all columns in the data set \n",
    "with pd.option_context('display.max_rows', 4, 'display.max_columns', 99):\n",
    "    display(pd.read_json('data/corpora/twitter_samples/positive_tweets.json', lines=True))"
   ]
  },
  {
   "cell_type": "code",
   "execution_count": 4,
   "metadata": {},
   "outputs": [
    {
     "name": "stdout",
     "output_type": "stream",
     "text": [
      "<class 'pandas.core.frame.DataFrame'>\n",
      "RangeIndex: 5000 entries, 0 to 4999\n",
      "Data columns (total 28 columns):\n",
      "contributors                 0 non-null float64\n",
      "coordinates                  27 non-null object\n",
      "created_at                   5000 non-null datetime64[ns]\n",
      "entities                     5000 non-null object\n",
      "favorite_count               5000 non-null int64\n",
      "favorited                    5000 non-null bool\n",
      "geo                          27 non-null object\n",
      "id                           5000 non-null int64\n",
      "id_str                       5000 non-null int64\n",
      "in_reply_to_screen_name      2957 non-null object\n",
      "in_reply_to_status_id        2453 non-null float64\n",
      "in_reply_to_status_id_str    2453 non-null float64\n",
      "in_reply_to_user_id          2957 non-null float64\n",
      "in_reply_to_user_id_str      2957 non-null float64\n",
      "is_quote_status              5000 non-null bool\n",
      "lang                         5000 non-null object\n",
      "metadata                     5000 non-null object\n",
      "place                        261 non-null object\n",
      "possibly_sensitive           1107 non-null float64\n",
      "quoted_status                189 non-null object\n",
      "quoted_status_id             189 non-null float64\n",
      "quoted_status_id_str         189 non-null float64\n",
      "retweet_count                5000 non-null int64\n",
      "retweeted                    5000 non-null bool\n",
      "source                       5000 non-null object\n",
      "text                         5000 non-null object\n",
      "truncated                    5000 non-null bool\n",
      "user                         5000 non-null object\n",
      "dtypes: bool(4), datetime64[ns](1), float64(8), int64(4), object(11)\n",
      "memory usage: 957.1+ KB\n"
     ]
    }
   ],
   "source": [
    "pd.read_json('data/corpora/twitter_samples/positive_tweets.json', lines=True).info()"
   ]
  },
  {
   "cell_type": "markdown",
   "metadata": {},
   "source": [
    "As we can see positive and negative tweets data have 5000 examples each. There are many unnecessary columns in the data which will not provide any usefull information regarding to sentiment analysis.  \n",
    "Therefore it is more practical to focus just on the text field of the Tweets."
   ]
  },
  {
   "cell_type": "code",
   "execution_count": 5,
   "metadata": {
    "scrolled": true
   },
   "outputs": [
    {
     "name": "stdout",
     "output_type": "stream",
     "text": [
      "#FollowFriday @France_Inte @PKuchly57 @Milipol_Paris for being top engaged members in my community this week :)\n",
      "@Lamb2ja Hey James! How odd :/ Please call our Contact Centre on 02392441234 and we will be able to assist you :) Many thanks!\n",
      "@DespiteOfficial we had a listen last night :) As You Bleed is an amazing track. When are you in Scotland?!\n",
      "@97sides CONGRATS :)\n",
      "yeaaaah yippppy!!!  my accnt verified rqst has succeed got a blue tick mark on my fb profile :) in 15 days\n"
     ]
    }
   ],
   "source": [
    "strings = twitter_samples.strings('positive_tweets.json')\n",
    "for string in strings[:5]:\n",
    "    print(string)"
   ]
  },
  {
   "cell_type": "code",
   "execution_count": 6,
   "metadata": {},
   "outputs": [],
   "source": [
    "# there are 2 seperate files for negative and positive tweets\n",
    "df_neg = pd.read_json('data/corpora/twitter_samples/negative_tweets.json', lines=True)\n",
    "df_neg['target'] = 0   # new column for negative sentiment, value 0\n",
    "df_pos = pd.read_json('data/corpora/twitter_samples/positive_tweets.json', lines=True)\n",
    "df_pos['target'] = 1   # new column for positive sentiment, value 1\n",
    "\n",
    "#joining positive and negative tweets\n",
    "df = pd.concat([df_neg, df_pos]).reset_index(drop=True)"
   ]
  },
  {
   "cell_type": "code",
   "execution_count": 7,
   "metadata": {},
   "outputs": [
    {
     "data": {
      "text/plain": [
       "0                                  hopeless for tmr :(\n",
       "1    Everything in the kids section of IKEA is so c...\n",
       "2    @Hegelbon That heart sliding into the waste ba...\n",
       "3    “@ketchBurning: I hate Japanese call him \"bani...\n",
       "4             Dang starting next week I have \"work\" :(\n",
       "Name: text, dtype: object"
      ]
     },
     "execution_count": 7,
     "metadata": {},
     "output_type": "execute_result"
    }
   ],
   "source": [
    "df['text'].head()"
   ]
  },
  {
   "cell_type": "code",
   "execution_count": 8,
   "metadata": {},
   "outputs": [
    {
     "data": {
      "text/plain": [
       "9995    @chriswiggin3 Chris, that's great to hear :) D...\n",
       "9996    @RachelLiskeard Thanks for the shout-out :) It...\n",
       "9997              @side556 Hey!  :)  Long time no talk...\n",
       "9998    @staybubbly69 as Matt would say. WELCOME TO AD...\n",
       "9999    @DanielOConnel18 you could say he will have eg...\n",
       "Name: text, dtype: object"
      ]
     },
     "execution_count": 8,
     "metadata": {},
     "output_type": "execute_result"
    }
   ],
   "source": [
    "df['text'].tail()"
   ]
  },
  {
   "cell_type": "code",
   "execution_count": 9,
   "metadata": {},
   "outputs": [
    {
     "data": {
      "text/plain": [
       "<Figure size 640x480 with 1 Axes>"
      ]
     },
     "metadata": {},
     "output_type": "display_data"
    }
   ],
   "source": [
    "import matplotlib.pyplot as plt\n",
    "\n",
    "# show length of tweets\n",
    "plt.boxplot(df.text.str.len())\n",
    "plt.title(\"Tweets' length\")\n",
    "plt.ylabel(\"Number of characters\")\n",
    "plt.xticks([])\n",
    "plt.show()"
   ]
  },
  {
   "cell_type": "code",
   "execution_count": 10,
   "metadata": {
    "scrolled": true
   },
   "outputs": [
    {
     "data": {
      "text/plain": [
       "1    5000\n",
       "0    5000\n",
       "Name: target, dtype: int64"
      ]
     },
     "execution_count": 10,
     "metadata": {},
     "output_type": "execute_result"
    }
   ],
   "source": [
    "df.target.value_counts()"
   ]
  },
  {
   "cell_type": "code",
   "execution_count": 11,
   "metadata": {
    "scrolled": true
   },
   "outputs": [
    {
     "data": {
      "text/html": [
       "<div>\n",
       "<style scoped>\n",
       "    .dataframe tbody tr th:only-of-type {\n",
       "        vertical-align: middle;\n",
       "    }\n",
       "\n",
       "    .dataframe tbody tr th {\n",
       "        vertical-align: top;\n",
       "    }\n",
       "\n",
       "    .dataframe thead th {\n",
       "        text-align: right;\n",
       "    }\n",
       "</style>\n",
       "<table border=\"1\" class=\"dataframe\">\n",
       "  <thead>\n",
       "    <tr style=\"text-align: right;\">\n",
       "      <th></th>\n",
       "      <th>tweets' length</th>\n",
       "      <th>count</th>\n",
       "    </tr>\n",
       "  </thead>\n",
       "  <tbody>\n",
       "    <tr>\n",
       "      <th>0</th>\n",
       "      <td>144</td>\n",
       "      <td>17</td>\n",
       "    </tr>\n",
       "    <tr>\n",
       "      <th>1</th>\n",
       "      <td>143</td>\n",
       "      <td>15</td>\n",
       "    </tr>\n",
       "    <tr>\n",
       "      <th>2</th>\n",
       "      <td>142</td>\n",
       "      <td>12</td>\n",
       "    </tr>\n",
       "    <tr>\n",
       "      <th>3</th>\n",
       "      <td>141</td>\n",
       "      <td>8</td>\n",
       "    </tr>\n",
       "    <tr>\n",
       "      <th>4</th>\n",
       "      <td>147</td>\n",
       "      <td>3</td>\n",
       "    </tr>\n",
       "    <tr>\n",
       "      <th>5</th>\n",
       "      <td>145</td>\n",
       "      <td>2</td>\n",
       "    </tr>\n",
       "    <tr>\n",
       "      <th>6</th>\n",
       "      <td>152</td>\n",
       "      <td>1</td>\n",
       "    </tr>\n",
       "    <tr>\n",
       "      <th>7</th>\n",
       "      <td>151</td>\n",
       "      <td>1</td>\n",
       "    </tr>\n",
       "    <tr>\n",
       "      <th>8</th>\n",
       "      <td>148</td>\n",
       "      <td>1</td>\n",
       "    </tr>\n",
       "    <tr>\n",
       "      <th>9</th>\n",
       "      <td>146</td>\n",
       "      <td>1</td>\n",
       "    </tr>\n",
       "  </tbody>\n",
       "</table>\n",
       "</div>"
      ],
      "text/plain": [
       "   tweets' length  count\n",
       "0             144     17\n",
       "1             143     15\n",
       "2             142     12\n",
       "3             141      8\n",
       "4             147      3\n",
       "5             145      2\n",
       "6             152      1\n",
       "7             151      1\n",
       "8             148      1\n",
       "9             146      1"
      ]
     },
     "execution_count": 11,
     "metadata": {},
     "output_type": "execute_result"
    }
   ],
   "source": [
    "pd.DataFrame(df.text[df.text.str.len() > 140].str.len().value_counts())\\\n",
    "            .reset_index().rename(columns={'index': 'tweets\\' length', 'text': 'count'})\n",
    "# checking the length of long tweets"
   ]
  },
  {
   "cell_type": "code",
   "execution_count": null,
   "metadata": {},
   "outputs": [],
   "source": []
  },
  {
   "cell_type": "markdown",
   "metadata": {},
   "source": [
    "## Data cleaning  \n",
    "\n",
    "https://towardsdatascience.com/another-twitter-sentiment-analysis-bb5b01ebad90  \n",
    "\n",
    "\n",
    "\n",
    "Data Preparation 1: HTML decoding  \n",
    "Data Preparation 2: ‘@’mention  \n",
    "Data Preparation 3: URL links  \n",
    "Data Preparation 4: UTF-8 BOM (Byte Order Mark)  \n",
    "Data Preparation 5: hashtag / numbers  "
   ]
  },
  {
   "cell_type": "markdown",
   "metadata": {},
   "source": [
    "### data preprocessing\n",
    "\n",
    "Preprocessing steps\n",
    "\n",
    "The targed of the following preprocessing is to create a Bag-of-Words representation of the data. The steps will execute as follows:\n",
    "\n",
    "   https://zablo.net/blog/post/twitter-sentiment-analysis-python-scikit-word2vec-nltk-xgboost  \n",
    "   \n",
    "   \n",
    "   Cleansing  \n",
    "        Remove URLs  \n",
    "        Remove usernames (mentions)  \n",
    "        Remove tweets with Not Available text  \n",
    "        Remove special characters  \n",
    "        Remove numbers  \n",
    "    Text processing  \n",
    "        Tokenize  \n",
    "        Transform to lowercase  \n",
    "        Stem  \n",
    "    Build word list for Bag-of-Words  "
   ]
  },
  {
   "cell_type": "markdown",
   "metadata": {},
   "source": [
    "\n",
    "\n",
    "In this kernel I want to illustrate how I do come up with meaningful preprocessing when building deep learning NLP models.\n",
    "\n",
    "I start with two golden rules:\n",
    "\n",
    "**Don't use standard preprocessing steps like stemming or stopword removal when you have pre-trained embeddings**\n",
    "\n",
    "Some of you might used standard preprocessing steps when doing word count based feature extraction (e.g. TFIDF) such as removing stopwords, stemming etc. The reason is simple: You loose valuable information, which would help your NN to figure things out.\n",
    "\n",
    "    Get your vocabulary as close to the embeddings as possible\n"
   ]
  },
  {
   "cell_type": "code",
   "execution_count": 12,
   "metadata": {},
   "outputs": [],
   "source": [
    "from nltk.tokenize import WordPunctTokenizer\n",
    "from bs4 import BeautifulSoup\n",
    "import re\n",
    "\n",
    "\n",
    "# twt_clean_emoji\n",
    "\n",
    "\n",
    "tokenizer = WordPunctTokenizer()\n",
    "pat1 = r'@[A-Za-z0-9_]+'  #  @replies\n",
    "pat2 = r'https?://[^ ]+'  #   links\n",
    "combined_pat = r'|'.join((pat1, pat2))\n",
    "www_pat = r'www.[^ ]+'\n",
    "negations_dic = {\"isn't\":\"is not\", \"aren't\":\"are not\", \"wasn't\":\"was not\", \"weren't\":\"were not\",\n",
    "                \"haven't\":\"have not\",\"hasn't\":\"has not\",\"hadn't\":\"had not\",\"won't\":\"will not\",\n",
    "                \"wouldn't\":\"would not\", \"don't\":\"do not\", \"doesn't\":\"does not\",\"didn't\":\"did not\",\n",
    "                \"can't\":\"can not\",\"couldn't\":\"could not\",\"shouldn't\":\"should not\",\"mightn't\":\"might not\",\n",
    "                \"mustn't\":\"must not\"}\n",
    "neg_pattern = re.compile(r'\\b(' + '|'.join(negations_dic.keys()) + r')\\b')\n",
    "\n",
    "def tweet_cleaner(text):\n",
    "    soup = BeautifulSoup(text, 'lxml')\n",
    "    souped = soup.get_text()\n",
    "    try:\n",
    "        bom_removed = souped.decode(\"utf-8-sig\").replace(u\"\\ufffd\", \"?\")\n",
    "    except:\n",
    "        bom_removed = souped\n",
    "    stripped = re.sub(combined_pat, '', bom_removed)\n",
    "    stripped = re.sub(www_pat, '', stripped)\n",
    "    lower_case = stripped.lower()\n",
    "    neg_handled = neg_pattern.sub(lambda x: negations_dic[x.group()], lower_case)\n",
    "#     letters_only = re.sub(\"[^a-zA-Z]\", \" \", neg_handled)\n",
    "    # During the letters_only process two lines above, it has created unnecessay white spaces,\n",
    "    # I will tokenize and join together to remove unneccessary white spaces\n",
    "    words = [x for x  in tokenizer.tokenize(neg_handled) if len(x) > 0]\n",
    "    return (\" \".join(words)).strip()\n",
    "\n",
    "\n",
    "twt_clean_emoji = []\n",
    "for t in df.text:\n",
    "    twt_clean_emoji.append(tweet_cleaner(t))"
   ]
  },
  {
   "cell_type": "markdown",
   "metadata": {},
   "source": [
    "#### Saving preprocessed tweets as csv"
   ]
  },
  {
   "cell_type": "markdown",
   "metadata": {},
   "source": [
    "#### I decided to only do sentiment analysis on this dataset, therfore I dropped the unnecessary colunns, keeping only sentiment and text.\n"
   ]
  },
  {
   "cell_type": "code",
   "execution_count": 13,
   "metadata": {},
   "outputs": [],
   "source": [
    "# saving clean tweets to file\n",
    "\n",
    "twt_orig = df[['text', 'target']]\n",
    "twt_orig.to_csv('data/twt_orig.csv',encoding='utf-8')\n",
    "\n",
    "twt_clean_emoji = pd.DataFrame(twt_clean_emoji,columns=['text'])\n",
    "twt_clean_emoji['target'] = df.target\n",
    "twt_clean_emoji.to_csv('data/twt_clean_emoji.csv',encoding='utf-8')\n"
   ]
  },
  {
   "cell_type": "markdown",
   "metadata": {},
   "source": [
    "#### Comparing results of preprocessing\n",
    "\n",
    "Result after cleaning and processing"
   ]
  },
  {
   "cell_type": "markdown",
   "metadata": {},
   "source": [
    "#### **compared to original Tweets (below) we can see, that there are some elements removed, but emoticons are left intact**"
   ]
  },
  {
   "cell_type": "code",
   "execution_count": 14,
   "metadata": {},
   "outputs": [
    {
     "name": "stdout",
     "output_type": "stream",
     "text": [
      "Before preprocessing\n",
      "============================== \n",
      "\n",
      "Athabasca glacier was there in #1948 :-( #athabasca #glacier #jasper #jaspernationalpark #alberta #explorealberta #… http://t.co/dZZdqmf7Cz\n",
      "@LittleMix French mixers miss you so much :( 💜\n",
      "Raining on me today :( \n",
      "\n",
      "Gym it is then 💪🏻🐒\n",
      "My last cross country in IJ was amazing!!!!!!!💥✨💫 Can't bear to leave :-( https://t.co/VkVOxIaEQn\n",
      "@bmthofficial ITS SOLD OUT :((((((((((((((((((((((((((((((((((((((((((((((((((((((((((\n",
      "i hate u &gt;.&lt; &gt;:( #H_My_King\n",
      "@JLo HAPPY BIRTHDAY TOO YOU! Best wishes from Dresden/Germany :). LOVE YOU &lt;3 &lt;3 &lt;3 &lt;3\n",
      "\n",
      "(Please share this) http://t.co/EByoLHnnOI\n",
      "@SivaKaneswaran  Happy Birthday 🎂  @JayMcGuiness  #Jiva for ever :) 🍹🍸🍻\n",
      "\n",
      "\n",
      "After preprocessing\n",
      "============================== \n",
      "\n",
      "athabasca glacier was there in # 1948 :-( # athabasca # glacier # jasper # jaspernationalpark # alberta # explorealberta #…\n",
      "french mixers miss you so much :( 💜\n",
      "raining on me today :( gym it is then 💪🏻🐒\n",
      "my last cross country in ij was amazing !!!!!!!💥✨💫 can not bear to leave :-(\n",
      "its sold out :((((((((((((((((((((((((((((((((((((((((((((((((((((((((((\n",
      "i hate u >.< >:( # h_my_king\n",
      "happy birthday too you ! best wishes from dresden / germany :). love you < 3 < 3 < 3 < 3 ( please share this )\n",
      "happy birthday 🎂 # jiva for ever :) 🍹🍸🍻\n"
     ]
    }
   ],
   "source": [
    "# non-standard-text tweet's list, with emos, links, hashtags, etc.\n",
    "twt_no = (9,89,188,286,337,338,9464,9852)\n",
    "\n",
    "print('Before preprocessing')\n",
    "print('='*30,'\\n')\n",
    "for i in twt_no:\n",
    "    print (twt_orig.text[i])\n",
    "print('\\n\\nAfter preprocessing')\n",
    "print('='*30,'\\n')\n",
    "for i in twt_no:\n",
    "    print (twt_clean_emoji.text[i])"
   ]
  },
  {
   "cell_type": "code",
   "execution_count": null,
   "metadata": {},
   "outputs": [],
   "source": []
  },
  {
   "cell_type": "markdown",
   "metadata": {},
   "source": [
    "##  2.2. Data visualization (wordcloud)"
   ]
  },
  {
   "cell_type": "markdown",
   "metadata": {},
   "source": [
    "##### Positive tweets wordcloud  \n",
    "Are generated from original Tweets"
   ]
  },
  {
   "cell_type": "code",
   "execution_count": 15,
   "metadata": {
    "scrolled": false
   },
   "outputs": [
    {
     "data": {
      "image/png": "[encoded data removed]",
      "text/plain": [
       "<Figure size 720x720 with 1 Axes>"
      ]
     },
     "metadata": {
      "needs_background": "light"
     },
     "output_type": "display_data"
    }
   ],
   "source": [
    "import numpy as np\n",
    "from PIL import Image\n",
    "from wordcloud import WordCloud\n",
    "import matplotlib.pyplot as plt\n",
    "\n",
    "\n",
    "\n",
    "pos_tweets = twitter_samples.strings('positive_tweets.json')\n",
    "\n",
    "pos_string = []\n",
    "for t in pos_tweets:\n",
    "    pos_string.append(t)\n",
    "pos_string = pd.Series(pos_string).str.cat(sep=' ')\n",
    "\n",
    "mask = np.array(Image.open( \"data/twitter_logo.jpg\"))\n",
    "wordcloud = WordCloud(background_color='black',max_font_size=80, min_font_size=6, colormap='PuBuGn', mask=mask).generate(pos_string)\n",
    "\n",
    "plt.figure(figsize=(10,10))\n",
    "plt.imshow(wordcloud, interpolation=\"bilinear\")\n",
    "plt.axis(\"off\")\n",
    "plt.show()"
   ]
  },
  {
   "cell_type": "markdown",
   "metadata": {},
   "source": [
    "##### Negative tweets wordcloud  \n"
   ]
  },
  {
   "cell_type": "code",
   "execution_count": 16,
   "metadata": {
    "scrolled": false
   },
   "outputs": [
    {
     "data": {
      "image/png": "[encoded data removed]",
      "text/plain": [
       "<Figure size 720x720 with 1 Axes>"
      ]
     },
     "metadata": {
      "needs_background": "light"
     },
     "output_type": "display_data"
    }
   ],
   "source": [
    "import numpy as np\n",
    "from PIL import Image\n",
    "from wordcloud import WordCloud\n",
    "import matplotlib.pyplot as plt\n",
    "\n",
    "\n",
    "neg_tweets = twitter_samples.strings('negative_tweets.json')\n",
    "\n",
    "neg_string = []\n",
    "for t in neg_tweets:\n",
    "    neg_string.append(t)\n",
    "neg_string = pd.Series(neg_string).str.cat(sep=' ')\n",
    "\n",
    "mask = np.array(Image.open( \"data/twitter_logo.jpg\"))\n",
    "wordcloud = WordCloud(background_color='black',max_font_size=80, min_font_size=6, colormap='RdGy', mask=mask).generate(neg_string)\n",
    "\n",
    "plt.figure(figsize=(10,10))\n",
    "plt.imshow(wordcloud, interpolation=\"bilinear\")\n",
    "plt.axis(\"off\")\n",
    "plt.show()"
   ]
  },
  {
   "cell_type": "markdown",
   "metadata": {},
   "source": [
    "###### WordCloud images are generated from original Tweets."
   ]
  },
  {
   "cell_type": "code",
   "execution_count": null,
   "metadata": {},
   "outputs": [],
   "source": []
  },
  {
   "cell_type": "code",
   "execution_count": null,
   "metadata": {},
   "outputs": [],
   "source": []
  },
  {
   "cell_type": "code",
   "execution_count": null,
   "metadata": {},
   "outputs": [],
   "source": []
  },
  {
   "cell_type": "markdown",
   "metadata": {},
   "source": [
    "# Count Vectorizer\n",
    "##### number of features"
   ]
  },
  {
   "cell_type": "code",
   "execution_count": 17,
   "metadata": {},
   "outputs": [
    {
     "name": "stdout",
     "output_type": "stream",
     "text": [
      "Number of features\n",
      "preprocessed tweets:  12038\n",
      "original tweets:  20770\n"
     ]
    }
   ],
   "source": [
    "from sklearn.feature_extraction.text import CountVectorizer\n",
    "\n",
    "\n",
    "#  pre-processed tweets with emoji's\n",
    "cv = CountVectorizer()\n",
    "cv.fit(twt_clean_emoji.text)\n",
    "\n",
    "# original tweets\n",
    "cv2 = CountVectorizer()\n",
    "cv2.fit(twt_orig.text)\n",
    "\n",
    "print('Number of features')\n",
    "print('preprocessed tweets: ', len(cv.get_feature_names()))\n",
    "print('original tweets: ', len(cv2.get_feature_names()))"
   ]
  },
  {
   "cell_type": "markdown",
   "metadata": {},
   "source": [
    "#### most common words in both classes (preprocessed tweets with emoijs)"
   ]
  },
  {
   "cell_type": "code",
   "execution_count": 18,
   "metadata": {},
   "outputs": [
    {
     "data": {
      "text/html": [
       "<div>\n",
       "<style scoped>\n",
       "    .dataframe tbody tr th:only-of-type {\n",
       "        vertical-align: middle;\n",
       "    }\n",
       "\n",
       "    .dataframe tbody tr th {\n",
       "        vertical-align: top;\n",
       "    }\n",
       "\n",
       "    .dataframe thead th {\n",
       "        text-align: right;\n",
       "    }\n",
       "</style>\n",
       "<table border=\"1\" class=\"dataframe\">\n",
       "  <thead>\n",
       "    <tr style=\"text-align: right;\">\n",
       "      <th></th>\n",
       "      <th>negative</th>\n",
       "      <th>positive</th>\n",
       "      <th>total</th>\n",
       "    </tr>\n",
       "  </thead>\n",
       "  <tbody>\n",
       "    <tr>\n",
       "      <th>you</th>\n",
       "      <td>803</td>\n",
       "      <td>1591</td>\n",
       "      <td>2394</td>\n",
       "    </tr>\n",
       "    <tr>\n",
       "      <th>to</th>\n",
       "      <td>1098</td>\n",
       "      <td>1093</td>\n",
       "      <td>2191</td>\n",
       "    </tr>\n",
       "    <tr>\n",
       "      <th>the</th>\n",
       "      <td>918</td>\n",
       "      <td>1086</td>\n",
       "      <td>2004</td>\n",
       "    </tr>\n",
       "    <tr>\n",
       "      <th>and</th>\n",
       "      <td>718</td>\n",
       "      <td>707</td>\n",
       "      <td>1425</td>\n",
       "    </tr>\n",
       "    <tr>\n",
       "      <th>it</th>\n",
       "      <td>683</td>\n",
       "      <td>680</td>\n",
       "      <td>1363</td>\n",
       "    </tr>\n",
       "    <tr>\n",
       "      <th>my</th>\n",
       "      <td>743</td>\n",
       "      <td>556</td>\n",
       "      <td>1299</td>\n",
       "    </tr>\n",
       "    <tr>\n",
       "      <th>not</th>\n",
       "      <td>914</td>\n",
       "      <td>361</td>\n",
       "      <td>1275</td>\n",
       "    </tr>\n",
       "    <tr>\n",
       "      <th>for</th>\n",
       "      <td>406</td>\n",
       "      <td>771</td>\n",
       "      <td>1177</td>\n",
       "    </tr>\n",
       "    <tr>\n",
       "      <th>me</th>\n",
       "      <td>699</td>\n",
       "      <td>359</td>\n",
       "      <td>1058</td>\n",
       "    </tr>\n",
       "    <tr>\n",
       "      <th>is</th>\n",
       "      <td>509</td>\n",
       "      <td>437</td>\n",
       "      <td>946</td>\n",
       "    </tr>\n",
       "  </tbody>\n",
       "</table>\n",
       "</div>"
      ],
      "text/plain": [
       "     negative  positive  total\n",
       "you       803      1591   2394\n",
       "to       1098      1093   2191\n",
       "the       918      1086   2004\n",
       "and       718       707   1425\n",
       "it        683       680   1363\n",
       "my        743       556   1299\n",
       "not       914       361   1275\n",
       "for       406       771   1177\n",
       "me        699       359   1058\n",
       "is        509       437    946"
      ]
     },
     "execution_count": 18,
     "metadata": {},
     "output_type": "execute_result"
    }
   ],
   "source": [
    "# tf  df \n",
    "neg_doc_matrix = cv.transform(twt_clean_emoji[twt_clean_emoji.target == 0].text)\n",
    "pos_doc_matrix = cv.transform(twt_clean_emoji[twt_clean_emoji.target == 1].text)\n",
    "neg_tf = np.sum(neg_doc_matrix,axis=0)\n",
    "pos_tf = np.sum(pos_doc_matrix,axis=0)\n",
    "neg = np.squeeze(np.asarray(neg_tf))\n",
    "pos = np.squeeze(np.asarray(pos_tf))\n",
    "term_freq_df = pd.DataFrame([neg,pos],columns=cv.get_feature_names()).transpose()\n",
    "# term_freq_df/\n",
    "term_freq_df.columns = ['negative', 'positive']\n",
    "term_freq_df['total'] = term_freq_df['negative'] + term_freq_df['positive']\n",
    "term_freq_df.sort_values(by='total', ascending=False).iloc[:10]"
   ]
  },
  {
   "cell_type": "code",
   "execution_count": 19,
   "metadata": {},
   "outputs": [
    {
     "data": {
      "image/png": "[encoded data removed]",
      "text/plain": [
       "<Figure size 1080x360 with 1 Axes>"
      ]
     },
     "metadata": {
      "needs_background": "light"
     },
     "output_type": "display_data"
    }
   ],
   "source": [
    "N = 10\n",
    "positive = term_freq_df.sort_values(by='total', ascending=False)['positive'][:N]\n",
    "negative = term_freq_df.sort_values(by='total', ascending=False)['negative'][:N]\n",
    "y_pos = np.arange(N)\n",
    "plt.figure(figsize=(15,5))\n",
    "plt.bar(y_pos, positive, width=0.6, align='center', alpha=0.8, label='positive tweets')\n",
    "plt.bar(y_pos, negative, width=0.6, align='center', alpha=0.8, label='negative tweets', bottom = positive)\n",
    "plt.xticks(y_pos, term_freq_df.sort_values(by='total', ascending=False)['total'][:N].index,rotation='vertical')\n",
    "plt.ylabel('Frequency')\n",
    "plt.xlabel('Top tokens')\n",
    "plt.title('Top tokens in tweets')\n",
    "plt.legend(loc='best')\n",
    "plt.show()"
   ]
  },
  {
   "cell_type": "markdown",
   "metadata": {},
   "source": [
    "#### As we can see most common stop words appear to be in simmilar amount in positive and negative classes in simmilar proportion"
   ]
  },
  {
   "cell_type": "markdown",
   "metadata": {},
   "source": [
    "# Stop words"
   ]
  },
  {
   "cell_type": "markdown",
   "metadata": {},
   "source": [
    "presentetian of most common words, with stop words removed. For building models I will **NOT remove** stop words, as they can provide some information for NN models with embedings"
   ]
  },
  {
   "cell_type": "markdown",
   "metadata": {},
   "source": [
    "However, when we remove stop words we will see some characterictic words bor both classes (negative and positive)"
   ]
  },
  {
   "cell_type": "markdown",
   "metadata": {},
   "source": [
    "###### most common tokens used in 'total' in tweets (stop words removed)"
   ]
  },
  {
   "cell_type": "code",
   "execution_count": 20,
   "metadata": {
    "scrolled": false
   },
   "outputs": [
    {
     "data": {
      "text/html": [
       "<div>\n",
       "<style scoped>\n",
       "    .dataframe tbody tr th:only-of-type {\n",
       "        vertical-align: middle;\n",
       "    }\n",
       "\n",
       "    .dataframe tbody tr th {\n",
       "        vertical-align: top;\n",
       "    }\n",
       "\n",
       "    .dataframe thead th {\n",
       "        text-align: right;\n",
       "    }\n",
       "</style>\n",
       "<table border=\"1\" class=\"dataframe\">\n",
       "  <thead>\n",
       "    <tr style=\"text-align: right;\">\n",
       "      <th></th>\n",
       "      <th>negative</th>\n",
       "      <th>positive</th>\n",
       "      <th>total</th>\n",
       "    </tr>\n",
       "  </thead>\n",
       "  <tbody>\n",
       "    <tr>\n",
       "      <th>thanks</th>\n",
       "      <td>77</td>\n",
       "      <td>390</td>\n",
       "      <td>467</td>\n",
       "    </tr>\n",
       "    <tr>\n",
       "      <th>follow</th>\n",
       "      <td>142</td>\n",
       "      <td>308</td>\n",
       "      <td>450</td>\n",
       "    </tr>\n",
       "    <tr>\n",
       "      <th>just</th>\n",
       "      <td>238</td>\n",
       "      <td>197</td>\n",
       "      <td>435</td>\n",
       "    </tr>\n",
       "    <tr>\n",
       "      <th>like</th>\n",
       "      <td>206</td>\n",
       "      <td>219</td>\n",
       "      <td>425</td>\n",
       "    </tr>\n",
       "    <tr>\n",
       "      <th>love</th>\n",
       "      <td>133</td>\n",
       "      <td>275</td>\n",
       "      <td>408</td>\n",
       "    </tr>\n",
       "    <tr>\n",
       "      <th>good</th>\n",
       "      <td>99</td>\n",
       "      <td>235</td>\n",
       "      <td>334</td>\n",
       "    </tr>\n",
       "    <tr>\n",
       "      <th>day</th>\n",
       "      <td>96</td>\n",
       "      <td>212</td>\n",
       "      <td>308</td>\n",
       "    </tr>\n",
       "    <tr>\n",
       "      <th>want</th>\n",
       "      <td>218</td>\n",
       "      <td>74</td>\n",
       "      <td>292</td>\n",
       "    </tr>\n",
       "    <tr>\n",
       "      <th>know</th>\n",
       "      <td>131</td>\n",
       "      <td>148</td>\n",
       "      <td>279</td>\n",
       "    </tr>\n",
       "    <tr>\n",
       "      <th>thank</th>\n",
       "      <td>28</td>\n",
       "      <td>246</td>\n",
       "      <td>274</td>\n",
       "    </tr>\n",
       "    <tr>\n",
       "      <th>miss</th>\n",
       "      <td>239</td>\n",
       "      <td>20</td>\n",
       "      <td>259</td>\n",
       "    </tr>\n",
       "    <tr>\n",
       "      <th>time</th>\n",
       "      <td>141</td>\n",
       "      <td>113</td>\n",
       "      <td>254</td>\n",
       "    </tr>\n",
       "    <tr>\n",
       "      <th>ll</th>\n",
       "      <td>98</td>\n",
       "      <td>146</td>\n",
       "      <td>244</td>\n",
       "    </tr>\n",
       "    <tr>\n",
       "      <th>today</th>\n",
       "      <td>111</td>\n",
       "      <td>116</td>\n",
       "      <td>227</td>\n",
       "    </tr>\n",
       "    <tr>\n",
       "      <th>happy</th>\n",
       "      <td>25</td>\n",
       "      <td>197</td>\n",
       "      <td>222</td>\n",
       "    </tr>\n",
       "  </tbody>\n",
       "</table>\n",
       "</div>"
      ],
      "text/plain": [
       "        negative  positive  total\n",
       "thanks        77       390    467\n",
       "follow       142       308    450\n",
       "just         238       197    435\n",
       "like         206       219    425\n",
       "love         133       275    408\n",
       "good          99       235    334\n",
       "day           96       212    308\n",
       "want         218        74    292\n",
       "know         131       148    279\n",
       "thank         28       246    274\n",
       "miss         239        20    259\n",
       "time         141       113    254\n",
       "ll            98       146    244\n",
       "today        111       116    227\n",
       "happy         25       197    222"
      ]
     },
     "execution_count": 20,
     "metadata": {},
     "output_type": "execute_result"
    }
   ],
   "source": [
    "from sklearn.feature_extraction.text import CountVectorizer\n",
    "# removing STOP WORDS\n",
    "cv = CountVectorizer(stop_words='english')\n",
    "cv.fit(twt_clean_emoji.text)\n",
    "\n",
    "\n",
    "# tf\n",
    "neg_doc_matrix = cv.transform(twt_clean_emoji[twt_clean_emoji.target == 0].text)\n",
    "pos_doc_matrix = cv.transform(twt_clean_emoji[twt_clean_emoji.target == 1].text)\n",
    "neg_tf = np.sum(neg_doc_matrix,axis=0)\n",
    "pos_tf = np.sum(pos_doc_matrix,axis=0)\n",
    "neg = np.squeeze(np.asarray(neg_tf))\n",
    "pos = np.squeeze(np.asarray(pos_tf))\n",
    "term_freq_df = pd.DataFrame([neg,pos],columns=cv.get_feature_names()).transpose()\n",
    "# term_freq_df/\n",
    "term_freq_df.columns = ['negative', 'positive']\n",
    "term_freq_df['total'] = term_freq_df['negative'] + term_freq_df['positive']\n",
    "term_freq_df.sort_values(by='total', ascending=False).iloc[:15]"
   ]
  },
  {
   "cell_type": "code",
   "execution_count": 21,
   "metadata": {},
   "outputs": [
    {
     "data": {
      "image/png": "[encoded data removed]",
      "text/plain": [
       "<Figure size 1080x360 with 1 Axes>"
      ]
     },
     "metadata": {
      "needs_background": "light"
     },
     "output_type": "display_data"
    }
   ],
   "source": [
    "N = 15\n",
    "positive = term_freq_df.sort_values(by='total', ascending=False)['positive'][:N]\n",
    "negative = term_freq_df.sort_values(by='total', ascending=False)['negative'][:N]\n",
    "y_pos = np.arange(N)\n",
    "plt.figure(figsize=(15,5))\n",
    "plt.bar(y_pos, positive, width=0.6, align='center', alpha=0.8, label='positive tweets')\n",
    "plt.bar(y_pos, negative, width=0.6, align='center', alpha=0.8, label='negative tweets', bottom = positive)\n",
    "plt.xticks(y_pos, term_freq_df.sort_values(by='total', ascending=False)['total'][:N].index,rotation='vertical')\n",
    "plt.ylabel('Frequency')\n",
    "plt.xlabel('Top tokens')\n",
    "plt.title('Top tokens in tweets  (stop words removed)')\n",
    "plt.legend(loc='best')\n",
    "plt.show()"
   ]
  },
  {
   "cell_type": "markdown",
   "metadata": {},
   "source": [
    "### Positive tweets"
   ]
  },
  {
   "cell_type": "markdown",
   "metadata": {},
   "source": [
    "###### most common tokens in positive tweets' (stop words removed)"
   ]
  },
  {
   "cell_type": "code",
   "execution_count": 22,
   "metadata": {
    "scrolled": false
   },
   "outputs": [
    {
     "data": {
      "text/plain": [
       "Text(0.5, 1.0, 'Top 20 tokens in positive tweets, with stop words removed')"
      ]
     },
     "execution_count": 22,
     "metadata": {},
     "output_type": "execute_result"
    },
    {
     "data": {
      "image/png": "[encoded data removed]",
      "text/plain": [
       "<Figure size 1080x360 with 1 Axes>"
      ]
     },
     "metadata": {
      "needs_background": "light"
     },
     "output_type": "display_data"
    }
   ],
   "source": [
    "y_pos = np.arange(20)\n",
    "plt.figure(figsize=(15,5))\n",
    "plt.bar(y_pos, term_freq_df.sort_values(by='positive', ascending=False)['positive'][:20], align='center', alpha=0.5)\n",
    "plt.xticks(y_pos, term_freq_df.sort_values(by='positive', ascending=False)['positive'][:20].index,rotation='vertical')\n",
    "plt.ylabel('Frequency')\n",
    "plt.xlabel('Top 20 positive tokens')\n",
    "plt.title('Top 20 tokens in positive tweets, with stop words removed')\n"
   ]
  },
  {
   "cell_type": "markdown",
   "metadata": {},
   "source": [
    "###### WordCloud images are generated from original Tweets."
   ]
  },
  {
   "cell_type": "markdown",
   "metadata": {},
   "source": [
    "### Negative tweets"
   ]
  },
  {
   "cell_type": "markdown",
   "metadata": {},
   "source": [
    "###### most common tokens in negative tweets' (stop words removed)"
   ]
  },
  {
   "cell_type": "code",
   "execution_count": 23,
   "metadata": {},
   "outputs": [
    {
     "data": {
      "text/plain": [
       "Text(0.5, 1.0, 'Top 20 tokens in negative tweets, with stop words removed')"
      ]
     },
     "execution_count": 23,
     "metadata": {},
     "output_type": "execute_result"
    },
    {
     "data": {
      "image/png": "[encoded data removed]",
      "text/plain": [
       "<Figure size 1080x360 with 1 Axes>"
      ]
     },
     "metadata": {
      "needs_background": "light"
     },
     "output_type": "display_data"
    }
   ],
   "source": [
    "y_pos = np.arange(20)\n",
    "plt.figure(figsize=(15,5))\n",
    "plt.bar(y_pos, term_freq_df.sort_values(by='negative', ascending=False)['negative'][:20], align='center', alpha=0.5)\n",
    "plt.xticks(y_pos, term_freq_df.sort_values(by='negative', ascending=False)['negative'][:20].index,rotation='vertical')\n",
    "plt.ylabel('Frequency')\n",
    "plt.xlabel('Top 20 negative tokens')\n",
    "plt.title('Top 20 tokens in negative tweets, with stop words removed')\n"
   ]
  },
  {
   "cell_type": "markdown",
   "metadata": {},
   "source": [
    "# Model comparison"
   ]
  },
  {
   "cell_type": "markdown",
   "metadata": {},
   "source": [
    "### Train / Dev / Test Split   \n",
    "\n",
    "- Baseline - TextBlob\n",
    "- Bigram"
   ]
  },
  {
   "cell_type": "markdown",
   "metadata": {},
   "source": [
    "\n",
    "\n",
    "First of all, splitting the dataset into a training and a testing set. The test set is the 30% of the original dataset. For this particular analysis my goal is to differentiate positive and negative tweets.\n"
   ]
  },
  {
   "cell_type": "code",
   "execution_count": 50,
   "metadata": {},
   "outputs": [],
   "source": [
    "# original tweets before preprocessing\n",
    "# X = twt_orig.text\n",
    "# y = twt_orig.target\n",
    "\n",
    "# preprocessed tweets with stop words NOT removed\n",
    "X = twt_clean_emoji.text\n",
    "y = twt_clean_emoji.target\n",
    "\n",
    "from sklearn.model_selection import train_test_split\n",
    "x_train, x_test, y_train, y_test = train_test_split(X, y, test_size=.3, \n",
    "                                                    random_state=123)"
   ]
  },
  {
   "cell_type": "code",
   "execution_count": 51,
   "metadata": {},
   "outputs": [
    {
     "name": "stdout",
     "output_type": "stream",
     "text": [
      "Train set has total 7000 entries with 50.21% negative, 49.79% positive\n"
     ]
    }
   ],
   "source": [
    "print (\"Train set has total {0} entries with {1:.2f}% negative, {2:.2f}% positive\".format(len(x_train),\n",
    "               (len(x_train[y_train == 0]) / (len(x_train)*1.))*100, \n",
    "               (len(x_train[y_train == 1]) / (len(x_train)*1.))*100))"
   ]
  },
  {
   "cell_type": "markdown",
   "metadata": {},
   "source": [
    "### 6. Finding baseline\n",
    "    - TextBlob (out-of-the-box sentiment analysis tool)"
   ]
  },
  {
   "cell_type": "markdown",
   "metadata": {},
   "source": [
    "## TextBlob  (Accuracy Score: 95.50%)\n",
    "TextBlob is a python library for processing textual data. Apart from other useful tools such as POS tagging, n-gram, **The package has built-in sentiment classification**. This is a so-called out-of-the-box sentiment analysis tool, and in addition to the null accuracy, I will also keep in mind of the accuracy I get from TextBlob sentiment analysis to see how my model is performing."
   ]
  },
  {
   "cell_type": "code",
   "execution_count": 52,
   "metadata": {
    "scrolled": false
   },
   "outputs": [
    {
     "name": "stdout",
     "output_type": "stream",
     "text": [
      "Accuracy Score: 95.50%\n",
      "--------------------------------------------------------------------------------\n",
      "Confusion Matrix\n",
      "\n",
      "          predicted_positive  predicted_negative\n",
      "positive                1475                  40\n",
      "negative                  95                1390\n",
      "--------------------------------------------------------------------------------\n",
      "Classification Report\n",
      "\n",
      "              precision    recall  f1-score   support\n",
      "\n",
      "           0       0.97      0.94      0.95      1485\n",
      "           1       0.94      0.97      0.96      1515\n",
      "\n",
      "   micro avg       0.95      0.95      0.95      3000\n",
      "   macro avg       0.96      0.95      0.95      3000\n",
      "weighted avg       0.96      0.95      0.95      3000\n",
      "\n"
     ]
    }
   ],
   "source": [
    "from textblob import TextBlob\n",
    "from sklearn.metrics import accuracy_score\n",
    "from sklearn.metrics import classification_report, confusion_matrix\n",
    "\n",
    "\n",
    "tbresult = [TextBlob(i).sentiment.polarity for i in x_test]\n",
    "tbpred = [0 if n < 0 else 1 for n in tbresult]\n",
    "conmat = np.array(confusion_matrix(y_test, tbpred, labels=[1,0]))\n",
    "\n",
    "confusion = pd.DataFrame(conmat, index=['positive', 'negative'],\n",
    "                         columns=['predicted_positive','predicted_negative'])\n",
    "\n",
    "print (\"Accuracy Score: {0:.2f}%\".format(accuracy_score(y_test, tbpred)*100))\n",
    "print (\"-\"*80)\n",
    "print (\"Confusion Matrix\\n\")\n",
    "print (confusion)\n",
    "print (\"-\"*80)\n",
    "print (\"Classification Report\\n\")\n",
    "print (classification_report(y_test, tbpred))"
   ]
  },
  {
   "cell_type": "markdown",
   "metadata": {},
   "source": [
    "## Logistic regression\n"
   ]
  },
  {
   "cell_type": "code",
   "execution_count": 84,
   "metadata": {},
   "outputs": [
    {
     "name": "stderr",
     "output_type": "stream",
     "text": [
      "/home/gt/anaconda3/envs/p36tfgpu/lib/python3.6/site-packages/sklearn/linear_model/logistic.py:433: FutureWarning: Default solver will be changed to 'lbfgs' in 0.22. Specify a solver to silence this warning.\n",
      "  FutureWarning)\n"
     ]
    },
    {
     "name": "stdout",
     "output_type": "stream",
     "text": [
      "0.9537142857142857\n",
      "0.7736666666666666\n",
      "CPU times: user 1.6 s, sys: 7.96 ms, total: 1.61 s\n",
      "Wall time: 785 ms\n"
     ]
    }
   ],
   "source": [
    "%%time\n",
    "from sklearn.linear_model import LogisticRegression\n",
    "clf = LogisticRegression()\n",
    "clf.fit(x_train_tfidf, y_train)\n",
    "\n",
    "print(clf.score(x_train_tfidf, y_train))\n",
    "print(clf.score(x_test_tfidf, y_test))"
   ]
  },
  {
   "cell_type": "markdown",
   "metadata": {},
   "source": [
    "## Algorithms Comparison  (ensemble (voting) classifier with top 5 models)  \n"
   ]
  },
  {
   "cell_type": "code",
   "execution_count": 85,
   "metadata": {
    "scrolled": true
   },
   "outputs": [
    {
     "name": "stdout",
     "output_type": "stream",
     "text": [
      "Validation result for Logistic Regression\n",
      "LogisticRegression(C=1.0, class_weight=None, dual=False, fit_intercept=True,\n",
      "          intercept_scaling=1, max_iter=100, multi_class='warn',\n",
      "          n_jobs=None, penalty='l2', random_state=None, solver='warn',\n",
      "          tol=0.0001, verbose=0, warm_start=False)\n"
     ]
    },
    {
     "name": "stderr",
     "output_type": "stream",
     "text": [
      "/home/gt/anaconda3/envs/p36tfgpu/lib/python3.6/site-packages/sklearn/linear_model/logistic.py:433: FutureWarning: Default solver will be changed to 'lbfgs' in 0.22. Specify a solver to silence this warning.\n",
      "  FutureWarning)\n"
     ]
    },
    {
     "name": "stdout",
     "output_type": "stream",
     "text": [
      "null accuracy: 50.50%\n",
      "accuracy score: 76.90%\n",
      "model is 26.40% more accurate than null accuracy\n",
      "train and test time: 0.46s\n",
      "--------------------------------------------------------------------------------\n",
      "Validation result for Linear SVC\n",
      "LinearSVC(C=1.0, class_weight=None, dual=True, fit_intercept=True,\n",
      "     intercept_scaling=1, loss='squared_hinge', max_iter=1000,\n",
      "     multi_class='ovr', penalty='l2', random_state=None, tol=0.0001,\n",
      "     verbose=0)\n",
      "null accuracy: 50.50%\n",
      "accuracy score: 75.73%\n",
      "model is 25.23% more accurate than null accuracy\n",
      "train and test time: 0.48s\n",
      "--------------------------------------------------------------------------------\n",
      "Validation result for LinearSVC with L1-based feature selection\n",
      "Pipeline(memory=None,\n",
      "     steps=[('feature_selection', SelectFromModel(estimator=LinearSVC(C=1.0, class_weight=None, dual=False, fit_intercept=True,\n",
      "     intercept_scaling=1, loss='squared_hinge', max_iter=1000,\n",
      "     multi_class='ovr', penalty='l1', random_state=None, tol=0.0001,\n",
      "     verbose=0),\n",
      "        max_features=None, n...ax_iter=1000,\n",
      "     multi_class='ovr', penalty='l2', random_state=None, tol=0.0001,\n",
      "     verbose=0))])\n",
      "null accuracy: 50.50%\n",
      "accuracy score: 76.67%\n",
      "model is 26.17% more accurate than null accuracy\n",
      "train and test time: 0.57s\n",
      "--------------------------------------------------------------------------------\n",
      "Validation result for Multinomial NB\n",
      "MultinomialNB(alpha=1.0, class_prior=None, fit_prior=True)\n",
      "null accuracy: 50.50%\n",
      "accuracy score: 77.57%\n",
      "model is 27.07% more accurate than null accuracy\n",
      "train and test time: 0.44s\n",
      "--------------------------------------------------------------------------------\n",
      "Validation result for Bernoulli NB\n",
      "BernoulliNB(alpha=1.0, binarize=0.0, class_prior=None, fit_prior=True)\n",
      "null accuracy: 50.50%\n",
      "accuracy score: 76.13%\n",
      "model is 25.63% more accurate than null accuracy\n",
      "train and test time: 0.44s\n",
      "--------------------------------------------------------------------------------\n",
      "Validation result for Ridge Classifier\n",
      "RidgeClassifier(alpha=1.0, class_weight=None, copy_X=True, fit_intercept=True,\n",
      "        max_iter=None, normalize=False, random_state=None, solver='auto',\n",
      "        tol=0.001)\n",
      "null accuracy: 50.50%\n",
      "accuracy score: 76.33%\n",
      "model is 25.83% more accurate than null accuracy\n",
      "train and test time: 0.50s\n",
      "--------------------------------------------------------------------------------\n",
      "Validation result for AdaBoost\n",
      "AdaBoostClassifier(algorithm='SAMME.R', base_estimator=None,\n",
      "          learning_rate=1.0, n_estimators=50, random_state=None)\n",
      "null accuracy: 50.50%\n",
      "accuracy score: 69.03%\n",
      "model is 18.53% more accurate than null accuracy\n",
      "train and test time: 0.84s\n",
      "--------------------------------------------------------------------------------\n",
      "Validation result for Perceptron\n",
      "Perceptron(alpha=0.0001, class_weight=None, early_stopping=False, eta0=1.0,\n",
      "      fit_intercept=True, max_iter=None, n_iter=None, n_iter_no_change=5,\n",
      "      n_jobs=None, penalty=None, random_state=0, shuffle=True, tol=None,\n",
      "      validation_fraction=0.1, verbose=0, warm_start=False)\n"
     ]
    },
    {
     "name": "stderr",
     "output_type": "stream",
     "text": [
      "/home/gt/anaconda3/envs/p36tfgpu/lib/python3.6/site-packages/sklearn/linear_model/stochastic_gradient.py:166: FutureWarning: max_iter and tol parameters have been added in Perceptron in 0.19. If both are left unset, they default to max_iter=5 and tol=None. If tol is not None, max_iter defaults to max_iter=1000. From 0.21, default max_iter will be 1000, and default tol will be 1e-3.\n",
      "  FutureWarning)\n"
     ]
    },
    {
     "name": "stdout",
     "output_type": "stream",
     "text": [
      "null accuracy: 50.50%\n",
      "accuracy score: 73.97%\n",
      "model is 23.47% more accurate than null accuracy\n",
      "train and test time: 0.45s\n",
      "--------------------------------------------------------------------------------\n",
      "Validation result for Passive-Aggresive\n",
      "PassiveAggressiveClassifier(C=1.0, average=False, class_weight=None,\n",
      "              early_stopping=False, fit_intercept=True, loss='hinge',\n",
      "              max_iter=None, n_iter=None, n_iter_no_change=5, n_jobs=None,\n",
      "              random_state=None, shuffle=True, tol=None,\n",
      "              validation_fraction=0.1, verbose=0, warm_start=False)\n"
     ]
    },
    {
     "name": "stderr",
     "output_type": "stream",
     "text": [
      "/home/gt/anaconda3/envs/p36tfgpu/lib/python3.6/site-packages/sklearn/linear_model/stochastic_gradient.py:166: FutureWarning: max_iter and tol parameters have been added in PassiveAggressiveClassifier in 0.19. If both are left unset, they default to max_iter=5 and tol=None. If tol is not None, max_iter defaults to max_iter=1000. From 0.21, default max_iter will be 1000, and default tol will be 1e-3.\n",
      "  FutureWarning)\n"
     ]
    },
    {
     "name": "stdout",
     "output_type": "stream",
     "text": [
      "null accuracy: 50.50%\n",
      "accuracy score: 74.93%\n",
      "model is 24.43% more accurate than null accuracy\n",
      "train and test time: 0.45s\n",
      "--------------------------------------------------------------------------------\n",
      "Validation result for Nearest Centroid\n",
      "NearestCentroid(metric='euclidean', shrink_threshold=None)\n",
      "null accuracy: 50.50%\n",
      "accuracy score: 74.07%\n",
      "model is 23.57% more accurate than null accuracy\n",
      "train and test time: 0.44s\n",
      "--------------------------------------------------------------------------------\n",
      "\n",
      "Classifier comparison for TRIGRAM\n"
     ]
    },
    {
     "data": {
      "text/html": [
       "<div>\n",
       "<style scoped>\n",
       "    .dataframe tbody tr th:only-of-type {\n",
       "        vertical-align: middle;\n",
       "    }\n",
       "\n",
       "    .dataframe tbody tr th {\n",
       "        vertical-align: top;\n",
       "    }\n",
       "\n",
       "    .dataframe thead th {\n",
       "        text-align: right;\n",
       "    }\n",
       "</style>\n",
       "<table border=\"1\" class=\"dataframe\">\n",
       "  <thead>\n",
       "    <tr style=\"text-align: right;\">\n",
       "      <th></th>\n",
       "      <th>0</th>\n",
       "      <th>1</th>\n",
       "    </tr>\n",
       "  </thead>\n",
       "  <tbody>\n",
       "    <tr>\n",
       "      <th>0</th>\n",
       "      <td>Logistic Regression</td>\n",
       "      <td>0.769000</td>\n",
       "    </tr>\n",
       "    <tr>\n",
       "      <th>1</th>\n",
       "      <td>Linear SVC</td>\n",
       "      <td>0.757333</td>\n",
       "    </tr>\n",
       "    <tr>\n",
       "      <th>2</th>\n",
       "      <td>LinearSVC with L1-based feature selection</td>\n",
       "      <td>0.766667</td>\n",
       "    </tr>\n",
       "    <tr>\n",
       "      <th>3</th>\n",
       "      <td>Multinomial NB</td>\n",
       "      <td>0.775667</td>\n",
       "    </tr>\n",
       "    <tr>\n",
       "      <th>4</th>\n",
       "      <td>Bernoulli NB</td>\n",
       "      <td>0.761333</td>\n",
       "    </tr>\n",
       "    <tr>\n",
       "      <th>5</th>\n",
       "      <td>Ridge Classifier</td>\n",
       "      <td>0.763333</td>\n",
       "    </tr>\n",
       "    <tr>\n",
       "      <th>6</th>\n",
       "      <td>AdaBoost</td>\n",
       "      <td>0.690333</td>\n",
       "    </tr>\n",
       "    <tr>\n",
       "      <th>7</th>\n",
       "      <td>Perceptron</td>\n",
       "      <td>0.739667</td>\n",
       "    </tr>\n",
       "    <tr>\n",
       "      <th>8</th>\n",
       "      <td>Passive-Aggresive</td>\n",
       "      <td>0.749333</td>\n",
       "    </tr>\n",
       "    <tr>\n",
       "      <th>9</th>\n",
       "      <td>Nearest Centroid</td>\n",
       "      <td>0.740667</td>\n",
       "    </tr>\n",
       "  </tbody>\n",
       "</table>\n",
       "</div>"
      ],
      "text/plain": [
       "                                           0         1\n",
       "0                        Logistic Regression  0.769000\n",
       "1                                 Linear SVC  0.757333\n",
       "2  LinearSVC with L1-based feature selection  0.766667\n",
       "3                             Multinomial NB  0.775667\n",
       "4                               Bernoulli NB  0.761333\n",
       "5                           Ridge Classifier  0.763333\n",
       "6                                   AdaBoost  0.690333\n",
       "7                                 Perceptron  0.739667\n",
       "8                          Passive-Aggresive  0.749333\n",
       "9                           Nearest Centroid  0.740667"
      ]
     },
     "execution_count": 85,
     "metadata": {},
     "output_type": "execute_result"
    }
   ],
   "source": [
    "from sklearn.svm import LinearSVC\n",
    "from sklearn.ensemble import AdaBoostClassifier\n",
    "from sklearn.naive_bayes import MultinomialNB, BernoulliNB\n",
    "from sklearn.linear_model import RidgeClassifier\n",
    "from sklearn.linear_model import PassiveAggressiveClassifier\n",
    "from sklearn.linear_model import Perceptron\n",
    "from sklearn.neighbors import NearestCentroid\n",
    "from sklearn.feature_selection import SelectFromModel\n",
    "from sklearn.feature_extraction.text import TfidfVectorizer\n",
    "\n",
    "\n",
    "\n",
    "names = [\"Logistic Regression\", \"Linear SVC\", \"LinearSVC with L1-based feature selection\",\"Multinomial NB\", \n",
    "         \"Bernoulli NB\", \"Ridge Classifier\", \"AdaBoost\", \"Perceptron\",\"Passive-Aggresive\", \"Nearest Centroid\"]\n",
    "classifiers = [\n",
    "    LogisticRegression(),\n",
    "    LinearSVC(),\n",
    "    Pipeline([\n",
    "  ('feature_selection', SelectFromModel(LinearSVC(penalty=\"l1\", dual=False))),\n",
    "  ('classification', LinearSVC(penalty=\"l2\"))]),\n",
    "    MultinomialNB(),\n",
    "    BernoulliNB(),\n",
    "    RidgeClassifier(),\n",
    "    AdaBoostClassifier(),\n",
    "    Perceptron(),\n",
    "    PassiveAggressiveClassifier(),\n",
    "    NearestCentroid()\n",
    "    ]\n",
    "zipped_clf = zip(names,classifiers)\n",
    "\n",
    "tvec = TfidfVectorizer()\n",
    "def classifier_comparator(vectorizer=tvec, n_features=10000, stop_words=None, ngram_range=(1, 1), classifier=zipped_clf):\n",
    "    result = []\n",
    "    vectorizer.set_params(stop_words=stop_words, max_features=n_features, ngram_range=ngram_range)\n",
    "    for n,c in classifier:\n",
    "        checker_pipeline = Pipeline([\n",
    "            ('vectorizer', vectorizer),\n",
    "            ('classifier', c)\n",
    "        ])\n",
    "        print (\"Validation result for {}\".format(n))\n",
    "        print (c)\n",
    "        clf_accuracy,tt_time = accuracy_summary(checker_pipeline, x_train, y_train, x_test, y_test)\n",
    "        result.append((n,clf_accuracy))\n",
    "    return result\n",
    "\n",
    "trigram_result = classifier_comparator(n_features=10000,ngram_range=(1,3))\n",
    "print('\\nClassifier comparison for TRIGRAM')\n",
    "pd.DataFrame(trigram_result)"
   ]
  },
  {
   "cell_type": "markdown",
   "metadata": {},
   "source": [
    "### VotingClassifier"
   ]
  },
  {
   "cell_type": "code",
   "execution_count": 74,
   "metadata": {
    "scrolled": false
   },
   "outputs": [
    {
     "name": "stdout",
     "output_type": "stream",
     "text": [
      "Validation result for Logistic Regression\n",
      "LogisticRegression(C=1.0, class_weight=None, dual=False, fit_intercept=True,\n",
      "          intercept_scaling=1, max_iter=100, multi_class='warn',\n",
      "          n_jobs=None, penalty='l2', random_state=None, solver='warn',\n",
      "          tol=0.0001, verbose=0, warm_start=False)\n",
      "Validation result for Linear SVC\n",
      "LinearSVC(C=1.0, class_weight=None, dual=True, fit_intercept=True,\n",
      "     intercept_scaling=1, loss='squared_hinge', max_iter=1000,\n",
      "     multi_class='ovr', penalty='l2', random_state=None, tol=0.0001,\n",
      "     verbose=0)\n",
      "Validation result for Multinomial NB\n",
      "MultinomialNB(alpha=1.0, class_prior=None, fit_prior=True)\n",
      "Validation result for Ridge Classifier\n",
      "RidgeClassifier(alpha=1.0, class_weight=None, copy_X=True, fit_intercept=True,\n",
      "        max_iter=None, normalize=False, random_state=None, solver='auto',\n",
      "        tol=0.001)\n",
      "Validation result for Passive Aggresive Classifier\n",
      "PassiveAggressiveClassifier(C=1.0, average=False, class_weight=None,\n",
      "              early_stopping=False, fit_intercept=True, loss='hinge',\n",
      "              max_iter=None, n_iter=None, n_iter_no_change=5, n_jobs=None,\n",
      "              random_state=None, shuffle=True, tol=None,\n",
      "              validation_fraction=0.1, verbose=0, warm_start=False)\n",
      "Validation result for Ensemble\n",
      "VotingClassifier(estimators=[('lr', LogisticRegression(C=1.0, class_weight=None, dual=False, fit_intercept=True,\n",
      "          intercept_scaling=1, max_iter=100, multi_class='warn',\n",
      "          n_jobs=None, penalty='l2', random_state=None, solver='warn',\n",
      "          tol=0.0001, verbose=0, warm_start=False)), ('svc', LinearS...=None, shuffle=True, tol=None,\n",
      "              validation_fraction=0.1, verbose=0, warm_start=False))],\n",
      "         flatten_transform=None, n_jobs=None, voting='hard', weights=None)\n"
     ]
    },
    {
     "name": "stderr",
     "output_type": "stream",
     "text": [
      "/home/gt/anaconda3/envs/p36tfgpu/lib/python3.6/site-packages/sklearn/linear_model/logistic.py:433: FutureWarning: Default solver will be changed to 'lbfgs' in 0.22. Specify a solver to silence this warning.\n",
      "  FutureWarning)\n",
      "/home/gt/anaconda3/envs/p36tfgpu/lib/python3.6/site-packages/sklearn/linear_model/stochastic_gradient.py:166: FutureWarning: max_iter and tol parameters have been added in PassiveAggressiveClassifier in 0.19. If both are left unset, they default to max_iter=5 and tol=None. If tol is not None, max_iter defaults to max_iter=1000. From 0.21, default max_iter will be 1000, and default tol will be 1e-3.\n",
      "  FutureWarning)\n"
     ]
    },
    {
     "name": "stdout",
     "output_type": "stream",
     "text": [
      "null accuracy: 50.50%\n",
      "accuracy score: 76.27%\n",
      "model is 25.77% more accurate than null accuracy\n",
      "train and test time: 0.58s\n",
      "--------------------------------------------------------------------------------\n"
     ]
    }
   ],
   "source": [
    "from sklearn.ensemble import VotingClassifier\n",
    "\n",
    "clf1 = LogisticRegression()\n",
    "clf2 = LinearSVC()\n",
    "clf3 = MultinomialNB()\n",
    "clf4 = RidgeClassifier()\n",
    "clf5 = PassiveAggressiveClassifier()\n",
    "\n",
    "eclf = VotingClassifier(estimators=[('lr', clf1), ('svc', clf2), ('mnb', clf3), ('rcs', clf4), ('pac', clf5)], voting='hard')\n",
    "\n",
    "for clf, label in zip([clf1, clf2, clf3, clf4, clf5, eclf], ['Logistic Regression', 'Linear SVC', 'Multinomial NB', 'Ridge Classifier', 'Passive Aggresive Classifier', 'Ensemble']):\n",
    "    checker_pipeline = Pipeline([\n",
    "            ('vectorizer', TfidfVectorizer(max_features=8000,ngram_range=(1, 3))),\n",
    "            ('classifier', clf)\n",
    "        ])\n",
    "    print (\"Validation result for {}\".format(label))\n",
    "    print (clf)\n",
    "clf_accuracy,tt_time = accuracy_summary(checker_pipeline, x_train, y_train, x_test, y_test)"
   ]
  },
  {
   "cell_type": "code",
   "execution_count": null,
   "metadata": {},
   "outputs": [],
   "source": []
  },
  {
   "cell_type": "markdown",
   "metadata": {},
   "source": [
    "## Tfidf Vectorizer"
   ]
  },
  {
   "cell_type": "code",
   "execution_count": 62,
   "metadata": {
    "scrolled": false
   },
   "outputs": [
    {
     "name": "stdout",
     "output_type": "stream",
     "text": [
      "LogisticRegression(C=1.0, class_weight=None, dual=False, fit_intercept=True,\n",
      "          intercept_scaling=1, max_iter=100, multi_class='warn',\n",
      "          n_jobs=None, penalty='l2', random_state=None, solver='warn',\n",
      "          tol=0.0001, verbose=0, warm_start=False)\n",
      "\n",
      "\n",
      "Validation result for 2000 features\n",
      "null accuracy: 50.50%\n",
      "accuracy score: 76.37%\n",
      "model is 25.87% more accurate than null accuracy\n",
      "train and test time: 0.14s\n",
      "--------------------------------------------------------------------------------\n",
      "Validation result for 4000 features\n",
      "null accuracy: 50.50%\n",
      "accuracy score: 76.43%\n",
      "model is 25.93% more accurate than null accuracy\n",
      "train and test time: 0.14s\n",
      "--------------------------------------------------------------------------------\n",
      "Validation result for 6000 features\n",
      "null accuracy: 50.50%\n",
      "accuracy score: 76.60%\n",
      "model is 26.10% more accurate than null accuracy\n",
      "train and test time: 0.14s\n",
      "--------------------------------------------------------------------------------\n",
      "Validation result for 8000 features\n",
      "null accuracy: 50.50%\n",
      "accuracy score: 76.87%\n",
      "model is 26.37% more accurate than null accuracy\n",
      "train and test time: 0.15s\n",
      "--------------------------------------------------------------------------------\n",
      "Validation result for 10000 features\n",
      "null accuracy: 50.50%\n",
      "accuracy score: 76.57%\n",
      "model is 26.07% more accurate than null accuracy\n",
      "train and test time: 0.15s\n",
      "--------------------------------------------------------------------------------\n",
      "Validation result for 12000 features\n",
      "null accuracy: 50.50%\n",
      "accuracy score: 76.57%\n",
      "model is 26.07% more accurate than null accuracy\n",
      "train and test time: 0.15s\n",
      "--------------------------------------------------------------------------------\n",
      "LogisticRegression(C=1.0, class_weight=None, dual=False, fit_intercept=True,\n",
      "          intercept_scaling=1, max_iter=100, multi_class='warn',\n",
      "          n_jobs=None, penalty='l2', random_state=None, solver='warn',\n",
      "          tol=0.0001, verbose=0, warm_start=False)\n",
      "\n",
      "\n",
      "Validation result for 2000 features\n",
      "null accuracy: 50.50%\n",
      "accuracy score: 75.60%\n",
      "model is 25.10% more accurate than null accuracy\n",
      "train and test time: 0.31s\n",
      "--------------------------------------------------------------------------------\n",
      "Validation result for 4000 features\n",
      "null accuracy: 50.50%\n",
      "accuracy score: 76.43%\n",
      "model is 25.93% more accurate than null accuracy\n",
      "train and test time: 0.31s\n",
      "--------------------------------------------------------------------------------\n",
      "Validation result for 6000 features\n",
      "null accuracy: 50.50%\n",
      "accuracy score: 76.77%\n",
      "model is 26.27% more accurate than null accuracy\n",
      "train and test time: 0.30s\n",
      "--------------------------------------------------------------------------------\n",
      "Validation result for 8000 features\n",
      "null accuracy: 50.50%\n",
      "accuracy score: 76.93%\n",
      "model is 26.43% more accurate than null accuracy\n",
      "train and test time: 0.30s\n",
      "--------------------------------------------------------------------------------\n",
      "Validation result for 10000 features\n",
      "null accuracy: 50.50%\n",
      "accuracy score: 76.93%\n",
      "model is 26.43% more accurate than null accuracy\n",
      "train and test time: 0.31s\n",
      "--------------------------------------------------------------------------------\n",
      "Validation result for 12000 features\n",
      "null accuracy: 50.50%\n",
      "accuracy score: 76.93%\n",
      "model is 26.43% more accurate than null accuracy\n",
      "train and test time: 0.32s\n",
      "--------------------------------------------------------------------------------\n",
      "LogisticRegression(C=1.0, class_weight=None, dual=False, fit_intercept=True,\n",
      "          intercept_scaling=1, max_iter=100, multi_class='warn',\n",
      "          n_jobs=None, penalty='l2', random_state=None, solver='warn',\n",
      "          tol=0.0001, verbose=0, warm_start=False)\n",
      "\n",
      "\n",
      "Validation result for 2000 features\n",
      "null accuracy: 50.50%\n",
      "accuracy score: 75.63%\n",
      "model is 25.13% more accurate than null accuracy\n",
      "train and test time: 0.44s\n",
      "--------------------------------------------------------------------------------\n",
      "Validation result for 4000 features\n",
      "null accuracy: 50.50%\n",
      "accuracy score: 76.67%\n",
      "model is 26.17% more accurate than null accuracy\n",
      "train and test time: 0.44s\n",
      "--------------------------------------------------------------------------------\n",
      "Validation result for 6000 features\n",
      "null accuracy: 50.50%\n",
      "accuracy score: 77.00%\n",
      "model is 26.50% more accurate than null accuracy\n",
      "train and test time: 0.46s\n",
      "--------------------------------------------------------------------------------\n",
      "Validation result for 8000 features\n",
      "null accuracy: 50.50%\n",
      "accuracy score: 76.80%\n",
      "model is 26.30% more accurate than null accuracy\n",
      "train and test time: 0.47s\n",
      "--------------------------------------------------------------------------------\n",
      "Validation result for 10000 features\n",
      "null accuracy: 50.50%\n",
      "accuracy score: 76.90%\n",
      "model is 26.40% more accurate than null accuracy\n",
      "train and test time: 0.46s\n",
      "--------------------------------------------------------------------------------\n",
      "Validation result for 12000 features\n",
      "null accuracy: 50.50%\n",
      "accuracy score: 77.10%\n",
      "model is 26.60% more accurate than null accuracy\n",
      "train and test time: 0.51s\n",
      "--------------------------------------------------------------------------------\n"
     ]
    },
    {
     "data": {
      "text/plain": [
       "<matplotlib.legend.Legend at 0x7f5db5536ba8>"
      ]
     },
     "execution_count": 62,
     "metadata": {},
     "output_type": "execute_result"
    },
    {
     "data": {
      "image/png": "[encoded data removed]",
      "text/plain": [
       "<Figure size 576x432 with 1 Axes>"
      ]
     },
     "metadata": {
      "needs_background": "light"
     },
     "output_type": "display_data"
    }
   ],
   "source": [
    "from sklearn.feature_extraction.text import CountVectorizer\n",
    "from sklearn.linear_model import LogisticRegression\n",
    "from sklearn.pipeline import Pipeline\n",
    "from time import time\n",
    "\n",
    "def accuracy_summary(pipeline, x_train, y_train, x_test, y_test):\n",
    "    if len(x_test[y_test == 0]) / (len(x_test)*1.) > 0.5:\n",
    "        null_accuracy = len(x_test[y_test == 0]) / (len(x_test)*1.)\n",
    "    else:\n",
    "        null_accuracy = 1. - (len(x_test[y_test == 0]) / (len(x_test)*1.))\n",
    "    t0 = time()\n",
    "    sentiment_fit = pipeline.fit(x_train, y_train)\n",
    "    y_pred = sentiment_fit.predict(x_test)\n",
    "    train_test_time = time() - t0\n",
    "    accuracy = accuracy_score(y_test, y_pred)\n",
    "    print (\"null accuracy: {0:.2f}%\".format(null_accuracy*100))\n",
    "    print (\"accuracy score: {0:.2f}%\".format(accuracy*100))\n",
    "    if accuracy > null_accuracy:\n",
    "        print (\"model is {0:.2f}% more accurate than null accuracy\".format((accuracy-null_accuracy)*100))\n",
    "    elif accuracy == null_accuracy:\n",
    "        print (\"model has the same accuracy with the null accuracy\")\n",
    "    else:\n",
    "        print (\"model is {0:.2f}% less accurate than null accuracy\".format((null_accuracy-accuracy)*100))\n",
    "    print (\"train and test time: {0:.2f}s\".format(train_test_time))\n",
    "    print (\"-\"*80)\n",
    "    return accuracy, train_test_time\n",
    "\n",
    "cvec = CountVectorizer()\n",
    "lr = LogisticRegression()\n",
    "n_features = np.arange(2000,12001,2000)\n",
    "\n",
    "def nfeature_accuracy_checker(vectorizer=cvec, n_features=n_features, stop_words=None, ngram_range=(1, 1), classifier=lr):\n",
    "    result = []\n",
    "    print (classifier)\n",
    "    print (\"\\n\")\n",
    "    for n in n_features:\n",
    "        vectorizer.set_params(stop_words=stop_words, max_features=n, ngram_range=ngram_range)\n",
    "        checker_pipeline = Pipeline([\n",
    "            ('vectorizer', vectorizer),\n",
    "            ('classifier', classifier)\n",
    "        ])\n",
    "        print (\"Validation result for {} features\".format(n))\n",
    "        nfeature_accuracy,tt_time = accuracy_summary(checker_pipeline, x_train, y_train, x_test, y_test)\n",
    "        result.append((n,nfeature_accuracy,tt_time))\n",
    "    return result\n",
    "\n",
    "from sklearn.feature_extraction.text import TfidfVectorizer\n",
    "tvec = TfidfVectorizer()\n",
    "\n",
    "feature_result_ugt = nfeature_accuracy_checker(vectorizer=tvec)\n",
    "feature_result_bgt = nfeature_accuracy_checker(vectorizer=tvec,ngram_range=(1, 2))\n",
    "feature_result_tgt = nfeature_accuracy_checker(vectorizer=tvec,ngram_range=(1, 3))\n",
    "\n",
    "\n",
    "nfeatures_plot_tgt = pd.DataFrame(feature_result_tgt,columns=['nfeatures','validation_accuracy','train_test_time'])\n",
    "nfeatures_plot_bgt = pd.DataFrame(feature_result_bgt,columns=['nfeatures','validation_accuracy','train_test_time'])\n",
    "nfeatures_plot_ugt = pd.DataFrame(feature_result_ugt,columns=['nfeatures','validation_accuracy','train_test_time'])\n",
    "plt.figure(figsize=(8,6))\n",
    "plt.plot(nfeatures_plot_tgt.nfeatures, nfeatures_plot_tgt.validation_accuracy,label='trigram tfidf vectorizer',color='royalblue')\n",
    "# plt.plot(nfeatures_plot_tg.nfeatures, nfeatures_plot_tg.validation_accuracy,label='trigram count vectorizer',linestyle=':', color='royalblue')\n",
    "plt.plot(nfeatures_plot_bgt.nfeatures, nfeatures_plot_bgt.validation_accuracy,label='bigram tfidf vectorizer',color='orangered')\n",
    "# plt.plot(nfeatures_plot_bg.nfeatures, nfeatures_plot_bg.validation_accuracy,label='bigram count vectorizer',linestyle=':',color='orangered')\n",
    "plt.plot(nfeatures_plot_ugt.nfeatures, nfeatures_plot_ugt.validation_accuracy, label='unigram tfidf vectorizer',color='gold')\n",
    "# plt.plot(nfeatures_plot_ug.nfeatures, nfeatures_plot_ug.validation_accuracy, label='unigram count vectorizer',linestyle=':',color='gold')\n",
    "plt.title(\"N-gram(1~3) test result : Accuracy\")\n",
    "plt.xlabel(\"Number of features\")\n",
    "plt.ylabel(\"Validation set accuracy\")\n",
    "plt.legend()"
   ]
  },
  {
   "cell_type": "markdown",
   "metadata": {},
   "source": [
    "# Doc2Vec"
   ]
  },
  {
   "cell_type": "code",
   "execution_count": 75,
   "metadata": {
    "scrolled": false
   },
   "outputs": [
    {
     "name": "stderr",
     "output_type": "stream",
     "text": [
      "/home/gt/anaconda3/envs/p36tfgpu/lib/python3.6/site-packages/ipykernel_launcher.py:13: DeprecationWarning: Call to deprecated `LabeledSentence` (Class will be removed in 4.0.0, use TaggedDocument instead).\n",
      "  del sys.path[0]\n",
      "/home/gt/anaconda3/envs/p36tfgpu/lib/python3.6/site-packages/gensim/models/doc2vec.py:366: UserWarning: The parameter `size` is deprecated, will be removed in 4.0.0, use `vector_size` instead.\n",
      "  warnings.warn(\"The parameter `size` is deprecated, will be removed in 4.0.0, use `vector_size` instead.\")\n",
      "100%|██████████| 10000/10000 [00:00<00:00, 2029862.07it/s]\n",
      "100%|██████████| 10000/10000 [00:00<00:00, 2121120.66it/s]\n",
      "100%|██████████| 10000/10000 [00:00<00:00, 2282862.90it/s]\n",
      "100%|██████████| 10000/10000 [00:00<00:00, 2123375.69it/s]\n",
      "100%|██████████| 10000/10000 [00:00<00:00, 2153354.55it/s]\n",
      "100%|██████████| 10000/10000 [00:00<00:00, 2228997.18it/s]\n",
      "100%|██████████| 10000/10000 [00:00<00:00, 2190465.84it/s]\n",
      "100%|██████████| 10000/10000 [00:00<00:00, 2174566.57it/s]\n",
      "100%|██████████| 10000/10000 [00:00<00:00, 2218621.53it/s]\n",
      "100%|██████████| 10000/10000 [00:00<00:00, 2201387.71it/s]\n",
      "100%|██████████| 10000/10000 [00:00<00:00, 2291969.40it/s]\n",
      "100%|██████████| 10000/10000 [00:00<00:00, 2115664.06it/s]\n",
      "100%|██████████| 10000/10000 [00:00<00:00, 2276543.64it/s]\n",
      "100%|██████████| 10000/10000 [00:00<00:00, 1723002.10it/s]\n",
      "100%|██████████| 10000/10000 [00:00<00:00, 2241624.71it/s]\n",
      "100%|██████████| 10000/10000 [00:00<00:00, 2095056.94it/s]\n",
      "100%|██████████| 10000/10000 [00:00<00:00, 2274444.99it/s]\n",
      "100%|██████████| 10000/10000 [00:00<00:00, 2206947.65it/s]\n",
      "100%|██████████| 10000/10000 [00:00<00:00, 2115023.95it/s]\n",
      "100%|██████████| 10000/10000 [00:00<00:00, 1916169.77it/s]\n",
      "100%|██████████| 10000/10000 [00:00<00:00, 1745444.86it/s]\n",
      "100%|██████████| 10000/10000 [00:00<00:00, 2318704.18it/s]\n",
      "100%|██████████| 10000/10000 [00:00<00:00, 2259010.07it/s]\n",
      "100%|██████████| 10000/10000 [00:00<00:00, 2302664.84it/s]\n",
      "100%|██████████| 10000/10000 [00:00<00:00, 2135157.81it/s]\n",
      "100%|██████████| 10000/10000 [00:00<00:00, 2245585.18it/s]\n",
      "100%|██████████| 10000/10000 [00:00<00:00, 2089733.45it/s]\n",
      "100%|██████████| 10000/10000 [00:00<00:00, 2307351.74it/s]\n",
      "100%|██████████| 10000/10000 [00:00<00:00, 2216979.76it/s]\n",
      "100%|██████████| 10000/10000 [00:00<00:00, 1708195.81it/s]\n",
      "100%|██████████| 10000/10000 [00:00<00:00, 2301275.10it/s]\n",
      "/home/gt/anaconda3/envs/p36tfgpu/lib/python3.6/site-packages/sklearn/linear_model/logistic.py:433: FutureWarning: Default solver will be changed to 'lbfgs' in 0.22. Specify a solver to silence this warning.\n",
      "  FutureWarning)\n"
     ]
    },
    {
     "data": {
      "text/plain": [
       "0.941"
      ]
     },
     "execution_count": 75,
     "metadata": {},
     "output_type": "execute_result"
    }
   ],
   "source": [
    "\n",
    "from tqdm import tqdm\n",
    "tqdm.pandas(desc=\"progress-bar\")\n",
    "from gensim.models import Doc2Vec\n",
    "from gensim.models.doc2vec import LabeledSentence\n",
    "import multiprocessing\n",
    "from sklearn import utils\n",
    "\n",
    "def labelize_tweets_ug(tweets,label):\n",
    "    result = []\n",
    "    prefix = label\n",
    "    for i, t in zip(tweets.index, tweets):\n",
    "        result.append(LabeledSentence(t.split(), [prefix + '_%s' % i]))\n",
    "    return result\n",
    "  \n",
    "all_x = pd.concat([x_train,x_test])\n",
    "all_x_w2v = labelize_tweets_ug(all_x, 'all')\n",
    "\n",
    "\n",
    "from sklearn.linear_model import LogisticRegression\n",
    "\n",
    "cores = multiprocessing.cpu_count()\n",
    "model_ug_dbow = Doc2Vec(dm=0, size=100, negative=5, min_count=2, workers=cores, alpha=0.065, min_alpha=0.065)\n",
    "model_ug_dbow.build_vocab([x for x in tqdm(all_x_w2v)])\n",
    "\n",
    "for epoch in range(30):\n",
    "    model_ug_dbow.train(utils.shuffle([x for x in tqdm(all_x_w2v)]), total_examples=len(all_x_w2v), epochs=1)\n",
    "    model_ug_dbow.alpha -= 0.002\n",
    "    model_ug_dbow.min_alpha = model_ug_dbow.alpha\n",
    "    \n",
    "def get_vectors(model, corpus, size):\n",
    "    vecs = np.zeros((len(corpus), size))\n",
    "    n = 0\n",
    "    for i in corpus.index:\n",
    "        prefix = 'all_' + str(i)\n",
    "        vecs[n] = model.docvecs[prefix]\n",
    "        n += 1\n",
    "    return vecs\n",
    "  \n",
    "train_vecs_dbow = get_vectors(model_ug_dbow, x_train, 100)\n",
    "validation_vecs_dbow = get_vectors(model_ug_dbow, x_test, 100)\n",
    "\n",
    "clf = LogisticRegression()\n",
    "clf.fit(train_vecs_dbow, y_train)\n",
    "clf.score(validation_vecs_dbow, y_test)"
   ]
  },
  {
   "cell_type": "code",
   "execution_count": null,
   "metadata": {},
   "outputs": [],
   "source": []
  },
  {
   "cell_type": "code",
   "execution_count": null,
   "metadata": {},
   "outputs": [],
   "source": []
  },
  {
   "cell_type": "code",
   "execution_count": null,
   "metadata": {},
   "outputs": [],
   "source": []
  },
  {
   "cell_type": "code",
   "execution_count": null,
   "metadata": {},
   "outputs": [],
   "source": []
  },
  {
   "cell_type": "markdown",
   "metadata": {},
   "source": [
    "## Neural Networks -  RNN (LSTM)"
   ]
  },
  {
   "cell_type": "code",
   "execution_count": null,
   "metadata": {},
   "outputs": [],
   "source": []
  },
  {
   "cell_type": "markdown",
   "metadata": {},
   "source": [
    "### 5. Simple 'classic model' for sentiment analysis using NLTK  \n",
    "\n",
    "https://github.com/nagypeterjob/Sentiment-Analysis-NLTK-ML-LSTM  \n",
    "https://www.kaggle.com/ngyptr/lstm-sentiment-analysis-keras  \n"
   ]
  },
  {
   "cell_type": "markdown",
   "metadata": {},
   "source": [
    "albo LSTM  \n",
    "https://www.kaggle.com/ngyptr/lstm-sentiment-analysis-keras\n",
    "\n"
   ]
  },
  {
   "cell_type": "markdown",
   "metadata": {},
   "source": [
    "albo Naive BAyes  \n",
    "\n",
    "https://towardsdatascience.com/the-real-world-as-seen-on-twitter-sentiment-analysis-part-two-3ed2670f927d"
   ]
  },
  {
   "cell_type": "code",
   "execution_count": null,
   "metadata": {},
   "outputs": [],
   "source": []
  },
  {
   "cell_type": "code",
   "execution_count": null,
   "metadata": {},
   "outputs": [],
   "source": []
  },
  {
   "cell_type": "code",
   "execution_count": null,
   "metadata": {},
   "outputs": [],
   "source": []
  },
  {
   "cell_type": "code",
   "execution_count": null,
   "metadata": {},
   "outputs": [],
   "source": []
  },
  {
   "cell_type": "code",
   "execution_count": null,
   "metadata": {},
   "outputs": [],
   "source": []
  },
  {
   "cell_type": "markdown",
   "metadata": {},
   "source": [
    "### 7. Sentiment Analysis using pre-trained models in Keras\n",
    "    - embeddings GloVe\n",
    "    - fastText (Facebook)  (performance vs accuracy)"
   ]
  },
  {
   "cell_type": "markdown",
   "metadata": {},
   "source": [
    "### 8. Summary\n",
    "  "
   ]
  },
  {
   "cell_type": "code",
   "execution_count": null,
   "metadata": {},
   "outputs": [],
   "source": []
  },
  {
   "cell_type": "code",
   "execution_count": null,
   "metadata": {},
   "outputs": [],
   "source": []
  },
  {
   "cell_type": "markdown",
   "metadata": {},
   "source": [
    "# LSTM Sentiment Analysis | Keras   \n",
    "https://www.kaggle.com/ngyptr/lstm-sentiment-analysis-keras"
   ]
  },
  {
   "cell_type": "code",
   "execution_count": 113,
   "metadata": {},
   "outputs": [],
   "source": [
    "import numpy as np # linear algebra\n",
    "import pandas as pd # data processing, CSV file I/O (e.g. pd.read_csv)\n",
    "\n",
    "from sklearn.feature_extraction.text import CountVectorizer\n",
    "from keras.preprocessing.text import Tokenizer\n",
    "from keras.preprocessing.sequence import pad_sequences\n",
    "from keras.models import Sequential\n",
    "from keras.layers import Dense, Embedding, LSTM, SpatialDropout1D\n",
    "from sklearn.model_selection import train_test_split\n",
    "from keras.utils.np_utils import to_categorical\n",
    "import re"
   ]
  },
  {
   "cell_type": "markdown",
   "metadata": {},
   "source": [
    "X = twt_clean_emoji.text\n",
    "y = twt_clean_emoji.target"
   ]
  },
  {
   "cell_type": "code",
   "execution_count": 114,
   "metadata": {},
   "outputs": [],
   "source": [
    "max_fatures = 2000\n",
    "tokenizer = Tokenizer(num_words=max_fatures, split=' ')\n",
    "tokenizer.fit_on_texts(twt_clean_emoji.text.values)\n",
    "X = tokenizer.texts_to_sequences(twt_clean_emoji.text.values)\n",
    "X = pad_sequences(X)"
   ]
  },
  {
   "cell_type": "code",
   "execution_count": 115,
   "metadata": {},
   "outputs": [
    {
     "data": {
      "text/plain": [
       "(10000, 32)"
      ]
     },
     "execution_count": 115,
     "metadata": {},
     "output_type": "execute_result"
    }
   ],
   "source": [
    "X.shape"
   ]
  },
  {
   "cell_type": "code",
   "execution_count": 116,
   "metadata": {},
   "outputs": [
    {
     "name": "stdout",
     "output_type": "stream",
     "text": [
      "_________________________________________________________________\n",
      "Layer (type)                 Output Shape              Param #   \n",
      "=================================================================\n",
      "embedding_4 (Embedding)      (None, 32, 128)           256000    \n",
      "_________________________________________________________________\n",
      "spatial_dropout1d_4 (Spatial (None, 32, 128)           0         \n",
      "_________________________________________________________________\n",
      "lstm_4 (LSTM)                (None, 196)               254800    \n",
      "_________________________________________________________________\n",
      "dense_6 (Dense)              (None, 2)                 394       \n",
      "=================================================================\n",
      "Total params: 511,194\n",
      "Trainable params: 511,194\n",
      "Non-trainable params: 0\n",
      "_________________________________________________________________\n",
      "None\n"
     ]
    }
   ],
   "source": [
    "\n",
    "\n",
    "embed_dim = 128\n",
    "lstm_out = 196\n",
    "\n",
    "model = Sequential()\n",
    "model.add(Embedding(max_fatures, embed_dim,input_length = X.shape[1]))\n",
    "model.add(SpatialDropout1D(0.4))\n",
    "model.add(LSTM(lstm_out, dropout=0.2, recurrent_dropout=0.2))\n",
    "model.add(Dense(2,activation='softmax'))\n",
    "model.compile(loss = 'categorical_crossentropy', optimizer='adam',metrics = ['accuracy'])\n",
    "print(model.summary())\n",
    "\n"
   ]
  },
  {
   "cell_type": "code",
   "execution_count": 117,
   "metadata": {},
   "outputs": [
    {
     "name": "stdout",
     "output_type": "stream",
     "text": [
      "(6700, 32) (6700, 2)\n",
      "(3300, 32) (3300, 2)\n"
     ]
    }
   ],
   "source": [
    "Y = pd.get_dummies(twt_clean_emoji.target).values\n",
    "X_train, X_test, Y_train, Y_test = train_test_split(X,Y, test_size = 0.33, random_state = 42)\n",
    "print(X_train.shape,Y_train.shape)\n",
    "print(X_test.shape,Y_test.shape)"
   ]
  },
  {
   "cell_type": "code",
   "execution_count": 118,
   "metadata": {},
   "outputs": [
    {
     "name": "stdout",
     "output_type": "stream",
     "text": [
      "Epoch 1/25\n",
      " - 11s - loss: 0.5577 - acc: 0.6999\n",
      "Epoch 2/25\n",
      " - 11s - loss: 0.4158 - acc: 0.8058\n",
      "Epoch 3/25\n",
      " - 11s - loss: 0.3639 - acc: 0.8334\n",
      "Epoch 4/25\n",
      " - 11s - loss: 0.3218 - acc: 0.8578\n",
      "Epoch 5/25\n",
      " - 11s - loss: 0.2920 - acc: 0.8707\n",
      "Epoch 6/25\n",
      " - 11s - loss: 0.2635 - acc: 0.8899\n",
      "Epoch 7/25\n",
      " - 11s - loss: 0.2384 - acc: 0.9001\n",
      "Epoch 8/25\n",
      " - 11s - loss: 0.2185 - acc: 0.9031\n",
      "Epoch 9/25\n",
      " - 11s - loss: 0.2003 - acc: 0.9166\n",
      "Epoch 10/25\n",
      " - 11s - loss: 0.1832 - acc: 0.9225\n",
      "Epoch 11/25\n",
      " - 11s - loss: 0.1731 - acc: 0.9261\n",
      "Epoch 12/25\n",
      " - 11s - loss: 0.1603 - acc: 0.9337\n",
      "Epoch 13/25\n",
      " - 11s - loss: 0.1454 - acc: 0.9384\n",
      "Epoch 14/25\n",
      " - 11s - loss: 0.1427 - acc: 0.9387\n",
      "Epoch 15/25\n",
      " - 11s - loss: 0.1278 - acc: 0.9497\n",
      "Epoch 16/25\n",
      " - 11s - loss: 0.1168 - acc: 0.9512\n",
      "Epoch 17/25\n",
      " - 11s - loss: 0.1168 - acc: 0.9522\n",
      "Epoch 18/25\n",
      " - 10s - loss: 0.1096 - acc: 0.9549\n",
      "Epoch 19/25\n",
      " - 11s - loss: 0.1053 - acc: 0.9539\n",
      "Epoch 20/25\n",
      " - 10s - loss: 0.1030 - acc: 0.9563\n",
      "Epoch 21/25\n",
      " - 11s - loss: 0.1018 - acc: 0.9585\n",
      "Epoch 22/25\n",
      " - 11s - loss: 0.0899 - acc: 0.9596\n",
      "Epoch 23/25\n",
      " - 10s - loss: 0.0877 - acc: 0.9633\n",
      "Epoch 24/25\n",
      " - 11s - loss: 0.0811 - acc: 0.9654\n",
      "Epoch 25/25\n",
      " - 11s - loss: 0.0818 - acc: 0.9669\n"
     ]
    },
    {
     "data": {
      "text/plain": [
       "<keras.callbacks.History at 0x7f5d8f8c4d68>"
      ]
     },
     "execution_count": 118,
     "metadata": {},
     "output_type": "execute_result"
    }
   ],
   "source": [
    "\n",
    "\n",
    "batch_size = 32\n",
    "model.fit(X_train, Y_train, epochs = 25, batch_size=batch_size, verbose = 2)\n",
    "\n"
   ]
  },
  {
   "cell_type": "code",
   "execution_count": 119,
   "metadata": {},
   "outputs": [
    {
     "name": "stdout",
     "output_type": "stream",
     "text": [
      "score: 1.44\n",
      "acc: 0.74\n"
     ]
    }
   ],
   "source": [
    "\n",
    "\n",
    "validation_size = 1500\n",
    "\n",
    "X_validate = X_test[-validation_size:]\n",
    "Y_validate = Y_test[-validation_size:]\n",
    "X_test = X_test[:-validation_size]\n",
    "Y_test = Y_test[:-validation_size]\n",
    "score,acc = model.evaluate(X_test, Y_test, verbose = 2, batch_size = batch_size)\n",
    "print(\"score: %.2f\" % (score))\n",
    "print(\"acc: %.2f\" % (acc))\n",
    "\n"
   ]
  },
  {
   "cell_type": "code",
   "execution_count": 120,
   "metadata": {},
   "outputs": [
    {
     "name": "stdout",
     "output_type": "stream",
     "text": [
      "pos_acc 72.55434782608695 %\n",
      "neg_acc 78.40314136125654 %\n"
     ]
    }
   ],
   "source": [
    "pos_cnt, neg_cnt, pos_correct, neg_correct = 0, 0, 0, 0\n",
    "for x in range(len(X_validate)):\n",
    "    \n",
    "    result = model.predict(X_validate[x].reshape(1,X_test.shape[1]),batch_size=1,verbose = 2)[0]\n",
    "   \n",
    "    if np.argmax(result) == np.argmax(Y_validate[x]):\n",
    "        if np.argmax(Y_validate[x]) == 0:\n",
    "            neg_correct += 1\n",
    "        else:\n",
    "            pos_correct += 1\n",
    "       \n",
    "    if np.argmax(Y_validate[x]) == 0:\n",
    "        neg_cnt += 1\n",
    "    else:\n",
    "        pos_cnt += 1\n",
    "\n",
    "\n",
    "\n",
    "print(\"pos_acc\", pos_correct/pos_cnt*100, \"%\")\n",
    "print(\"neg_acc\", neg_correct/neg_cnt*100, \"%\")\n"
   ]
  },
  {
   "cell_type": "code",
   "execution_count": null,
   "metadata": {},
   "outputs": [],
   "source": []
  },
  {
   "cell_type": "markdown",
   "metadata": {},
   "source": [
    "# GloVe  \n",
    "https://www.kaggle.com/bertcarremans/using-word-embeddings-for-sentiment-analysis"
   ]
  },
  {
   "cell_type": "markdown",
   "metadata": {},
   "source": [
    "## Self trained word embeddings"
   ]
  },
  {
   "cell_type": "code",
   "execution_count": 191,
   "metadata": {},
   "outputs": [],
   "source": [
    "# Basic packages\n",
    "import pandas as pd \n",
    "import numpy as np\n",
    "import re\n",
    "import collections\n",
    "import matplotlib.pyplot as plt\n",
    "from pathlib import Path\n",
    "\n",
    "# Packages for data preparation\n",
    "from sklearn.model_selection import train_test_split\n",
    "from nltk.corpus import stopwords\n",
    "from keras.preprocessing.text import Tokenizer\n",
    "from keras.preprocessing.sequence import pad_sequences\n",
    "from keras.utils.np_utils import to_categorical\n",
    "from sklearn.preprocessing import LabelEncoder\n",
    "\n",
    "# Packages for modeling\n",
    "from keras import models\n",
    "from keras import layers\n",
    "from keras import regularizers"
   ]
  },
  {
   "cell_type": "code",
   "execution_count": 192,
   "metadata": {},
   "outputs": [],
   "source": [
    "\n",
    "\n",
    "NB_WORDS = 10000  # Parameter indicating the number of words we'll put in the dictionary\n",
    "VAL_SIZE = 1000  # Size of the validation set\n",
    "NB_START_EPOCHS = 30  # Number of epochs we usually start to train with\n",
    "BATCH_SIZE = 512  # Size of the batches used in the mini-batch gradient descent\n",
    "MAX_LEN = 24  # Maximum number of words in a sequence\n",
    "GLOVE_DIM = 50  # Number of dimensions of the GloVe word embeddings\n",
    "INPUT_PATH = './data'  # Path where all input files are stored\n",
    "\n"
   ]
  },
  {
   "cell_type": "code",
   "execution_count": 193,
   "metadata": {},
   "outputs": [],
   "source": [
    "def deep_model(model, X_train, y_train, X_valid, y_valid):\n",
    "    '''\n",
    "    Function to train a multi-class model. The number of epochs and \n",
    "    batch_size are set by the constants at the top of the\n",
    "    notebook. \n",
    "    \n",
    "    Parameters:\n",
    "        model : model with the chosen architecture\n",
    "        X_train : training features\n",
    "        y_train : training target\n",
    "        X_valid : validation features\n",
    "        Y_valid : validation target\n",
    "    Output:\n",
    "        model training history\n",
    "    '''\n",
    "    model.compile(optimizer='rmsprop'\n",
    "                  , loss='categorical_crossentropy'\n",
    "                  , metrics=['accuracy'])\n",
    "    \n",
    "    history = model.fit(X_train\n",
    "                       , y_train\n",
    "                       , epochs=NB_START_EPOCHS\n",
    "                       , batch_size=BATCH_SIZE\n",
    "                       , validation_data=(X_valid, y_valid)\n",
    "                       , verbose=1)\n",
    "    return history\n",
    "\n",
    "\n",
    "def eval_metric(history, metric_name):\n",
    "    '''\n",
    "    Function to evaluate a trained model on a chosen metric. \n",
    "    Training and validation metric are plotted in a\n",
    "    line chart for each epoch.\n",
    "    \n",
    "    Parameters:\n",
    "        history : model training history\n",
    "        metric_name : loss or accuracy\n",
    "    Output:\n",
    "        line chart with epochs of x-axis and metric on\n",
    "        y-axis\n",
    "    '''\n",
    "    metric = history.history[metric_name]\n",
    "    val_metric = history.history['val_' + metric_name]\n",
    "\n",
    "    e = range(1, NB_START_EPOCHS + 1)\n",
    "\n",
    "    plt.plot(e, metric, 'bo', label='Train ' + metric_name)\n",
    "    plt.plot(e, val_metric, 'b', label='Validation ' + metric_name)\n",
    "    plt.legend()\n",
    "    plt.show()\n",
    "\n",
    "def test_model(model, X_train, y_train, X_test, y_test, epoch_stop):\n",
    "    '''\n",
    "    Function to test the model on new data after training it\n",
    "    on the full training data with the optimal number of epochs.\n",
    "    \n",
    "    Parameters:\n",
    "        model : trained model\n",
    "        X_train : training features\n",
    "        y_train : training target\n",
    "        X_test : test features\n",
    "        y_test : test target\n",
    "        epochs : optimal number of epochs\n",
    "    Output:\n",
    "        test accuracy and test loss\n",
    "    '''\n",
    "    model.fit(X_train\n",
    "              , y_train\n",
    "              , epochs=epoch_stop\n",
    "              , batch_size=BATCH_SIZE\n",
    "              , verbose=0)\n",
    "    results = model.evaluate(X_test, y_test)\n",
    "    \n",
    "    return results\n",
    "\n",
    "def remove_stopwords(input_text):\n",
    "    '''\n",
    "    Function to remove English stopwords from a Pandas Series.\n",
    "    \n",
    "    Parameters:\n",
    "        input_text : text to clean\n",
    "    Output:\n",
    "        cleaned Pandas Series \n",
    "    '''\n",
    "    stopwords_list = stopwords.words('english')\n",
    "    # Some words which might indicate a certain sentiment are kept via a whitelist\n",
    "    whitelist = [\"n't\", \"not\", \"no\"]\n",
    "    words = input_text.split() \n",
    "    clean_words = [word for word in words if (word not in stopwords_list or word in whitelist) and len(word) > 1] \n",
    "    return \" \".join(clean_words) \n",
    "    \n",
    "def remove_mentions(input_text):\n",
    "    '''\n",
    "    Function to remove mentions, preceded by @, in a Pandas Series\n",
    "    \n",
    "    Parameters:\n",
    "        input_text : text to clean\n",
    "    Output:\n",
    "        cleaned Pandas Series \n",
    "    '''\n",
    "    return re.sub(r'@\\w+', '', input_text)"
   ]
  },
  {
   "cell_type": "code",
   "execution_count": 194,
   "metadata": {},
   "outputs": [
    {
     "name": "stdout",
     "output_type": "stream",
     "text": [
      "# Train data samples: 9000\n",
      "# Test data samples: 1000\n"
     ]
    }
   ],
   "source": [
    "\n",
    "\n",
    "X_train, X_test, y_train, y_test = train_test_split(twt_clean_emoji.text, twt_clean_emoji.target, test_size=0.1, random_state=37)\n",
    "print('# Train data samples:', X_train.shape[0])\n",
    "print('# Test data samples:', X_test.shape[0])\n",
    "assert X_train.shape[0] == y_train.shape[0]\n",
    "assert X_test.shape[0] == y_test.shape[0]\n",
    "\n"
   ]
  },
  {
   "cell_type": "code",
   "execution_count": 195,
   "metadata": {},
   "outputs": [],
   "source": [
    "\n",
    "\n",
    "tk = Tokenizer(num_words=NB_WORDS,\n",
    "               filters='!\"#$%&()*+,-./:;<=>?@[\\\\]^_`{|}~\\t\\n',\n",
    "               lower=True,\n",
    "               split=\" \")\n",
    "tk.fit_on_texts(X_train)\n",
    "\n",
    "X_train_seq = tk.texts_to_sequences(X_train)\n",
    "X_test_seq = tk.texts_to_sequences(X_test)\n",
    "\n"
   ]
  },
  {
   "cell_type": "code",
   "execution_count": 196,
   "metadata": {},
   "outputs": [
    {
     "data": {
      "text/plain": [
       "count    9000.000000\n",
       "mean       12.512333\n",
       "std         7.868916\n",
       "min         2.000000\n",
       "25%         6.000000\n",
       "50%        11.000000\n",
       "75%        18.000000\n",
       "max        41.000000\n",
       "Name: text, dtype: float64"
      ]
     },
     "execution_count": 196,
     "metadata": {},
     "output_type": "execute_result"
    }
   ],
   "source": [
    "\n",
    "\n",
    "seq_lengths = X_train.apply(lambda x: len(x.split(' ')))\n",
    "seq_lengths.describe()\n",
    "\n"
   ]
  },
  {
   "cell_type": "code",
   "execution_count": 197,
   "metadata": {},
   "outputs": [],
   "source": [
    "MAX_LEN = 41  # Maximum number of words in a sequence\n",
    "\n",
    "X_train_seq_trunc = pad_sequences(X_train_seq, maxlen=MAX_LEN)\n",
    "X_test_seq_trunc = pad_sequences(X_test_seq, maxlen=MAX_LEN)"
   ]
  },
  {
   "cell_type": "code",
   "execution_count": 198,
   "metadata": {},
   "outputs": [
    {
     "data": {
      "text/plain": [
       "array([   0,    0,    0,    0,    0,    0,    0,    0,    0,    0,    0,\n",
       "          0,    0,    0,    0,    0,    0,    0,    0,    0,    0,    0,\n",
       "          0,    0,    0,    0,    0,    0,    0,    0,    0,   75,  639,\n",
       "       4358,   11,   30, 2105,  673,   29,   11,  166], dtype=int32)"
      ]
     },
     "execution_count": 198,
     "metadata": {},
     "output_type": "execute_result"
    }
   ],
   "source": [
    "\n",
    "\n",
    "X_train_seq_trunc[10]  # Example of padded sequence\n",
    "\n"
   ]
  },
  {
   "cell_type": "code",
   "execution_count": 199,
   "metadata": {},
   "outputs": [],
   "source": [
    "\n",
    "\n",
    "le = LabelEncoder()\n",
    "y_train_le = le.fit_transform(y_train)\n",
    "y_test_le = le.transform(y_test)\n",
    "y_train_oh = to_categorical(y_train_le)\n",
    "y_test_oh = to_categorical(y_test_le)\n",
    "\n"
   ]
  },
  {
   "cell_type": "code",
   "execution_count": 200,
   "metadata": {},
   "outputs": [
    {
     "name": "stdout",
     "output_type": "stream",
     "text": [
      "Shape of validation set: (900, 41)\n"
     ]
    }
   ],
   "source": [
    "\n",
    "\n",
    "X_train_emb, X_valid_emb, y_train_emb, y_valid_emb = train_test_split(X_train_seq_trunc, y_train_oh, test_size=0.1, random_state=37)\n",
    "\n",
    "assert X_valid_emb.shape[0] == y_valid_emb.shape[0]\n",
    "assert X_train_emb.shape[0] == y_train_emb.shape[0]\n",
    "\n",
    "print('Shape of validation set:',X_valid_emb.shape)\n",
    "\n"
   ]
  },
  {
   "cell_type": "code",
   "execution_count": 201,
   "metadata": {},
   "outputs": [
    {
     "name": "stdout",
     "output_type": "stream",
     "text": [
      "_________________________________________________________________\n",
      "Layer (type)                 Output Shape              Param #   \n",
      "=================================================================\n",
      "embedding_9 (Embedding)      (None, 41, 8)             80000     \n",
      "_________________________________________________________________\n",
      "flatten_5 (Flatten)          (None, 328)               0         \n",
      "_________________________________________________________________\n",
      "dense_11 (Dense)             (None, 2)                 658       \n",
      "=================================================================\n",
      "Total params: 80,658\n",
      "Trainable params: 80,658\n",
      "Non-trainable params: 0\n",
      "_________________________________________________________________\n"
     ]
    }
   ],
   "source": [
    "\n",
    "\n",
    "emb_model = models.Sequential()\n",
    "emb_model.add(layers.Embedding(NB_WORDS, 8, input_length=MAX_LEN))\n",
    "emb_model.add(layers.Flatten())\n",
    "emb_model.add(layers.Dense(2, activation='softmax'))\n",
    "emb_model.summary()\n",
    "\n"
   ]
  },
  {
   "cell_type": "code",
   "execution_count": 203,
   "metadata": {
    "scrolled": true
   },
   "outputs": [
    {
     "name": "stdout",
     "output_type": "stream",
     "text": [
      "Train on 8100 samples, validate on 900 samples\n",
      "Epoch 1/30\n",
      "8100/8100 [==============================] - 1s 63us/step - loss: 0.1998 - acc: 0.9464 - val_loss: 0.4723 - val_acc: 0.7556\n",
      "Epoch 2/30\n",
      "8100/8100 [==============================] - 0s 5us/step - loss: 0.1886 - acc: 0.9500 - val_loss: 0.4746 - val_acc: 0.7567\n",
      "Epoch 3/30\n",
      "8100/8100 [==============================] - 0s 6us/step - loss: 0.1802 - acc: 0.9516 - val_loss: 0.4777 - val_acc: 0.7489\n",
      "Epoch 4/30\n",
      "8100/8100 [==============================] - 0s 6us/step - loss: 0.1727 - acc: 0.9542 - val_loss: 0.4800 - val_acc: 0.7511\n",
      "Epoch 5/30\n",
      "8100/8100 [==============================] - 0s 6us/step - loss: 0.1656 - acc: 0.9560 - val_loss: 0.4830 - val_acc: 0.7544\n",
      "Epoch 6/30\n",
      "8100/8100 [==============================] - 0s 6us/step - loss: 0.1589 - acc: 0.9581 - val_loss: 0.4869 - val_acc: 0.7556\n",
      "Epoch 7/30\n",
      "8100/8100 [==============================] - 0s 7us/step - loss: 0.1524 - acc: 0.9596 - val_loss: 0.4906 - val_acc: 0.7500\n",
      "Epoch 8/30\n",
      "8100/8100 [==============================] - 0s 6us/step - loss: 0.1461 - acc: 0.9625 - val_loss: 0.4947 - val_acc: 0.7511\n",
      "Epoch 9/30\n",
      "8100/8100 [==============================] - 0s 6us/step - loss: 0.1403 - acc: 0.9638 - val_loss: 0.4989 - val_acc: 0.7511\n",
      "Epoch 10/30\n",
      "8100/8100 [==============================] - 0s 6us/step - loss: 0.1347 - acc: 0.9651 - val_loss: 0.5036 - val_acc: 0.7522\n",
      "Epoch 11/30\n",
      "8100/8100 [==============================] - 0s 6us/step - loss: 0.1293 - acc: 0.9672 - val_loss: 0.5091 - val_acc: 0.7444\n",
      "Epoch 12/30\n",
      "8100/8100 [==============================] - 0s 6us/step - loss: 0.1242 - acc: 0.9689 - val_loss: 0.5142 - val_acc: 0.7456\n",
      "Epoch 13/30\n",
      "8100/8100 [==============================] - 0s 6us/step - loss: 0.1194 - acc: 0.9695 - val_loss: 0.5201 - val_acc: 0.7467\n",
      "Epoch 14/30\n",
      "8100/8100 [==============================] - 0s 5us/step - loss: 0.1147 - acc: 0.9712 - val_loss: 0.5256 - val_acc: 0.7478\n",
      "Epoch 15/30\n",
      "8100/8100 [==============================] - 0s 5us/step - loss: 0.1102 - acc: 0.9715 - val_loss: 0.5320 - val_acc: 0.7489\n",
      "Epoch 16/30\n",
      "8100/8100 [==============================] - 0s 5us/step - loss: 0.1057 - acc: 0.9726 - val_loss: 0.5384 - val_acc: 0.7478\n",
      "Epoch 17/30\n",
      "8100/8100 [==============================] - 0s 6us/step - loss: 0.1020 - acc: 0.9744 - val_loss: 0.5443 - val_acc: 0.7411\n",
      "Epoch 18/30\n",
      "8100/8100 [==============================] - 0s 6us/step - loss: 0.0981 - acc: 0.9749 - val_loss: 0.5511 - val_acc: 0.7433\n",
      "Epoch 19/30\n",
      "8100/8100 [==============================] - 0s 5us/step - loss: 0.0944 - acc: 0.9758 - val_loss: 0.5583 - val_acc: 0.7411\n",
      "Epoch 20/30\n",
      "8100/8100 [==============================] - 0s 6us/step - loss: 0.0908 - acc: 0.9769 - val_loss: 0.5663 - val_acc: 0.7356\n",
      "Epoch 21/30\n",
      "8100/8100 [==============================] - 0s 5us/step - loss: 0.0877 - acc: 0.9785 - val_loss: 0.5729 - val_acc: 0.7433\n",
      "Epoch 22/30\n",
      "8100/8100 [==============================] - 0s 6us/step - loss: 0.0842 - acc: 0.9785 - val_loss: 0.5812 - val_acc: 0.7433\n",
      "Epoch 23/30\n",
      "8100/8100 [==============================] - 0s 5us/step - loss: 0.0811 - acc: 0.9793 - val_loss: 0.5895 - val_acc: 0.7400\n",
      "Epoch 24/30\n",
      "8100/8100 [==============================] - 0s 6us/step - loss: 0.0783 - acc: 0.9800 - val_loss: 0.5968 - val_acc: 0.7422\n",
      "Epoch 25/30\n",
      "8100/8100 [==============================] - 0s 6us/step - loss: 0.0753 - acc: 0.9809 - val_loss: 0.6056 - val_acc: 0.7433\n",
      "Epoch 26/30\n",
      "8100/8100 [==============================] - 0s 7us/step - loss: 0.0727 - acc: 0.9817 - val_loss: 0.6136 - val_acc: 0.7389\n",
      "Epoch 27/30\n",
      "8100/8100 [==============================] - 0s 5us/step - loss: 0.0701 - acc: 0.9821 - val_loss: 0.6221 - val_acc: 0.7389\n",
      "Epoch 28/30\n",
      "8100/8100 [==============================] - 0s 5us/step - loss: 0.0675 - acc: 0.9830 - val_loss: 0.6313 - val_acc: 0.7389\n",
      "Epoch 29/30\n",
      "8100/8100 [==============================] - 0s 5us/step - loss: 0.0654 - acc: 0.9831 - val_loss: 0.6397 - val_acc: 0.7367\n",
      "Epoch 30/30\n",
      "8100/8100 [==============================] - 0s 6us/step - loss: 0.0629 - acc: 0.9838 - val_loss: 0.6499 - val_acc: 0.7389\n"
     ]
    }
   ],
   "source": [
    "\n",
    "\n",
    "emb_history = deep_model(emb_model, X_train_emb, y_train_emb, X_valid_emb, y_valid_emb)\n",
    "\n"
   ]
  },
  {
   "cell_type": "code",
   "execution_count": 204,
   "metadata": {},
   "outputs": [
    {
     "data": {
      "image/png": "[encoded data removed]",
      "text/plain": [
       "<Figure size 432x288 with 1 Axes>"
      ]
     },
     "metadata": {
      "needs_background": "light"
     },
     "output_type": "display_data"
    }
   ],
   "source": [
    "\n",
    "\n",
    "eval_metric(emb_history, 'acc')\n",
    "\n"
   ]
  },
  {
   "cell_type": "code",
   "execution_count": 205,
   "metadata": {},
   "outputs": [
    {
     "data": {
      "image/png": "[encoded data removed]",
      "text/plain": [
       "<Figure size 432x288 with 1 Axes>"
      ]
     },
     "metadata": {
      "needs_background": "light"
     },
     "output_type": "display_data"
    }
   ],
   "source": [
    "eval_metric(emb_history, 'loss')"
   ]
  },
  {
   "cell_type": "code",
   "execution_count": 206,
   "metadata": {},
   "outputs": [
    {
     "name": "stdout",
     "output_type": "stream",
     "text": [
      "1000/1000 [==============================] - 0s 34us/step\n",
      "/n\n",
      "Test accuracy of word embeddings model: 74.60%\n"
     ]
    }
   ],
   "source": [
    "\n",
    "\n",
    "emb_results = test_model(emb_model, X_train_seq_trunc, y_train_oh, X_test_seq_trunc, y_test_oh, 6)\n",
    "print('/n')\n",
    "print('Test accuracy of word embeddings model: {0:.2f}%'.format(emb_results[1]*100))\n",
    "\n"
   ]
  },
  {
   "cell_type": "markdown",
   "metadata": {},
   "source": [
    "# Using pre-trained word embeddings GloVe  \n",
    "https://www.kaggle.com/bertcarremans/using-word-embeddings-for-sentiment-analysis\n"
   ]
  },
  {
   "cell_type": "code",
   "execution_count": 228,
   "metadata": {},
   "outputs": [],
   "source": [
    "GLOVE_DIM = 100  # Number of dimensions of the GloVe word embeddings\n",
    "\n",
    "glove_file = 'glove.twitter.27B.' + str(GLOVE_DIM) + 'd.txt'\n",
    "glove_dir = 'data/glove/'\n",
    "emb_dict = {}\n",
    "\n",
    "glove=open(glove_dir + glove_file)\n",
    "for line in glove:\n",
    "    values = line.split()\n",
    "    word = values[0]\n",
    "    vector = np.asarray(values[1:], dtype='float32')\n",
    "    emb_dict[word] = vector\n",
    "glove.close()"
   ]
  },
  {
   "cell_type": "code",
   "execution_count": 229,
   "metadata": {},
   "outputs": [
    {
     "name": "stdout",
     "output_type": "stream",
     "text": [
      "Found the word airplane in the dictionary\n",
      "Found the word airline in the dictionary\n",
      "Found the word flight in the dictionary\n",
      "Found the word luggage in the dictionary\n"
     ]
    }
   ],
   "source": [
    "\n",
    "\n",
    "airline_words = ['airplane', 'airline', 'flight', 'luggage']\n",
    "for w in airline_words:\n",
    "    if w in emb_dict.keys():\n",
    "        print('Found the word {} in the dictionary'.format(w))\n",
    "\n"
   ]
  },
  {
   "cell_type": "code",
   "execution_count": 230,
   "metadata": {},
   "outputs": [],
   "source": [
    "\n",
    "\n",
    "emb_matrix = np.zeros((NB_WORDS, GLOVE_DIM))\n",
    "\n",
    "for w, i in tk.word_index.items():\n",
    "    # The word_index contains a token for all words of the training data so we need to limit that\n",
    "    if i < NB_WORDS:\n",
    "        vect = emb_dict.get(w)\n",
    "        # Check if the word from the training data occurs in the GloVe word embeddings\n",
    "        # Otherwise the vector is kept with only zeros\n",
    "        if vect is not None:\n",
    "            emb_matrix[i] = vect\n",
    "    else:\n",
    "        break\n",
    "\n"
   ]
  },
  {
   "cell_type": "code",
   "execution_count": 231,
   "metadata": {},
   "outputs": [
    {
     "name": "stdout",
     "output_type": "stream",
     "text": [
      "_________________________________________________________________\n",
      "Layer (type)                 Output Shape              Param #   \n",
      "=================================================================\n",
      "embedding_13 (Embedding)     (None, 41, 100)           1000000   \n",
      "_________________________________________________________________\n",
      "flatten_9 (Flatten)          (None, 4100)              0         \n",
      "_________________________________________________________________\n",
      "dense_15 (Dense)             (None, 2)                 8202      \n",
      "=================================================================\n",
      "Total params: 1,008,202\n",
      "Trainable params: 1,008,202\n",
      "Non-trainable params: 0\n",
      "_________________________________________________________________\n"
     ]
    }
   ],
   "source": [
    "glove_model = models.Sequential()\n",
    "glove_model.add(layers.Embedding(NB_WORDS, GLOVE_DIM, input_length=MAX_LEN))\n",
    "glove_model.add(layers.Flatten())\n",
    "glove_model.add(layers.Dense(2, activation='softmax'))\n",
    "glove_model.summary()\n"
   ]
  },
  {
   "cell_type": "code",
   "execution_count": 232,
   "metadata": {},
   "outputs": [],
   "source": [
    "\n",
    "\n",
    "glove_model.layers[0].set_weights([emb_matrix])\n",
    "glove_model.layers[0].trainable = False\n",
    "\n"
   ]
  },
  {
   "cell_type": "code",
   "execution_count": 233,
   "metadata": {},
   "outputs": [
    {
     "name": "stdout",
     "output_type": "stream",
     "text": [
      "Train on 8100 samples, validate on 900 samples\n",
      "Epoch 1/30\n",
      "8100/8100 [==============================] - 1s 81us/step - loss: 0.6331 - acc: 0.6510 - val_loss: 0.5766 - val_acc: 0.7322\n",
      "Epoch 2/30\n",
      "8100/8100 [==============================] - 0s 8us/step - loss: 0.5430 - acc: 0.7488 - val_loss: 0.5394 - val_acc: 0.7367\n",
      "Epoch 3/30\n",
      "8100/8100 [==============================] - 0s 8us/step - loss: 0.5073 - acc: 0.7664 - val_loss: 0.5212 - val_acc: 0.7300\n",
      "Epoch 4/30\n",
      "8100/8100 [==============================] - 0s 9us/step - loss: 0.4826 - acc: 0.7801 - val_loss: 0.5046 - val_acc: 0.7711\n",
      "Epoch 5/30\n",
      "8100/8100 [==============================] - 0s 8us/step - loss: 0.4648 - acc: 0.7869 - val_loss: 0.4976 - val_acc: 0.7589\n",
      "Epoch 6/30\n",
      "8100/8100 [==============================] - 0s 11us/step - loss: 0.4523 - acc: 0.7952 - val_loss: 0.4974 - val_acc: 0.7500\n",
      "Epoch 7/30\n",
      "8100/8100 [==============================] - 0s 8us/step - loss: 0.4401 - acc: 0.8016 - val_loss: 0.4940 - val_acc: 0.7733\n",
      "Epoch 8/30\n",
      "8100/8100 [==============================] - 0s 10us/step - loss: 0.4305 - acc: 0.8067 - val_loss: 0.4939 - val_acc: 0.7711\n",
      "Epoch 9/30\n",
      "8100/8100 [==============================] - 0s 9us/step - loss: 0.4226 - acc: 0.8133 - val_loss: 0.4875 - val_acc: 0.7733\n",
      "Epoch 10/30\n",
      "8100/8100 [==============================] - 0s 9us/step - loss: 0.4145 - acc: 0.8183 - val_loss: 0.4870 - val_acc: 0.7578\n",
      "Epoch 11/30\n",
      "8100/8100 [==============================] - 0s 9us/step - loss: 0.4097 - acc: 0.8196 - val_loss: 0.4864 - val_acc: 0.7611\n",
      "Epoch 12/30\n",
      "8100/8100 [==============================] - 0s 9us/step - loss: 0.4035 - acc: 0.8244 - val_loss: 0.4863 - val_acc: 0.7678\n",
      "Epoch 13/30\n",
      "8100/8100 [==============================] - 0s 9us/step - loss: 0.3984 - acc: 0.8267 - val_loss: 0.4909 - val_acc: 0.7778\n",
      "Epoch 14/30\n",
      "8100/8100 [==============================] - 0s 9us/step - loss: 0.3934 - acc: 0.8296 - val_loss: 0.4872 - val_acc: 0.7611\n",
      "Epoch 15/30\n",
      "8100/8100 [==============================] - 0s 9us/step - loss: 0.3901 - acc: 0.8307 - val_loss: 0.4886 - val_acc: 0.7633\n",
      "Epoch 16/30\n",
      "8100/8100 [==============================] - 0s 9us/step - loss: 0.3858 - acc: 0.8328 - val_loss: 0.4917 - val_acc: 0.7689\n",
      "Epoch 17/30\n",
      "8100/8100 [==============================] - 0s 10us/step - loss: 0.3830 - acc: 0.8343 - val_loss: 0.4932 - val_acc: 0.7622\n",
      "Epoch 18/30\n",
      "8100/8100 [==============================] - 0s 10us/step - loss: 0.3788 - acc: 0.8357 - val_loss: 0.4925 - val_acc: 0.7667\n",
      "Epoch 19/30\n",
      "8100/8100 [==============================] - 0s 10us/step - loss: 0.3750 - acc: 0.8384 - val_loss: 0.4932 - val_acc: 0.7644\n",
      "Epoch 20/30\n",
      "8100/8100 [==============================] - 0s 9us/step - loss: 0.3726 - acc: 0.8400 - val_loss: 0.4945 - val_acc: 0.7667\n",
      "Epoch 21/30\n",
      "8100/8100 [==============================] - 0s 9us/step - loss: 0.3689 - acc: 0.8398 - val_loss: 0.4960 - val_acc: 0.7689\n",
      "Epoch 22/30\n",
      "8100/8100 [==============================] - 0s 8us/step - loss: 0.3666 - acc: 0.8447 - val_loss: 0.4995 - val_acc: 0.7622\n",
      "Epoch 23/30\n",
      "8100/8100 [==============================] - 0s 9us/step - loss: 0.3655 - acc: 0.8419 - val_loss: 0.5036 - val_acc: 0.7700\n",
      "Epoch 24/30\n",
      "8100/8100 [==============================] - 0s 9us/step - loss: 0.3620 - acc: 0.8453 - val_loss: 0.5019 - val_acc: 0.7689\n",
      "Epoch 25/30\n",
      "8100/8100 [==============================] - 0s 9us/step - loss: 0.3604 - acc: 0.8458 - val_loss: 0.5036 - val_acc: 0.7756\n",
      "Epoch 26/30\n",
      "8100/8100 [==============================] - 0s 9us/step - loss: 0.3584 - acc: 0.8459 - val_loss: 0.5086 - val_acc: 0.7756\n",
      "Epoch 27/30\n",
      "8100/8100 [==============================] - 0s 9us/step - loss: 0.3569 - acc: 0.8456 - val_loss: 0.5067 - val_acc: 0.7600\n",
      "Epoch 28/30\n",
      "8100/8100 [==============================] - 0s 9us/step - loss: 0.3550 - acc: 0.8478 - val_loss: 0.5112 - val_acc: 0.7722\n",
      "Epoch 29/30\n",
      "8100/8100 [==============================] - 0s 10us/step - loss: 0.3520 - acc: 0.8500 - val_loss: 0.5098 - val_acc: 0.7711\n",
      "Epoch 30/30\n",
      "8100/8100 [==============================] - 0s 9us/step - loss: 0.3504 - acc: 0.8507 - val_loss: 0.5132 - val_acc: 0.7656\n"
     ]
    }
   ],
   "source": [
    "\n",
    "\n",
    "glove_history = deep_model(glove_model, X_train_emb, y_train_emb, X_valid_emb, y_valid_emb)\n",
    "\n"
   ]
  },
  {
   "cell_type": "code",
   "execution_count": 234,
   "metadata": {},
   "outputs": [
    {
     "data": {
      "image/png": "[encoded data removed]",
      "text/plain": [
       "<Figure size 432x288 with 1 Axes>"
      ]
     },
     "metadata": {
      "needs_background": "light"
     },
     "output_type": "display_data"
    }
   ],
   "source": [
    "\n",
    "\n",
    "eval_metric(glove_history, 'loss')\n",
    "\n"
   ]
  },
  {
   "cell_type": "code",
   "execution_count": 235,
   "metadata": {},
   "outputs": [
    {
     "data": {
      "image/png": "[encoded data removed]",
      "text/plain": [
       "<Figure size 432x288 with 1 Axes>"
      ]
     },
     "metadata": {
      "needs_background": "light"
     },
     "output_type": "display_data"
    }
   ],
   "source": [
    "\n",
    "\n",
    "eval_metric(glove_history, 'acc')\n",
    "\n"
   ]
  },
  {
   "cell_type": "code",
   "execution_count": 236,
   "metadata": {},
   "outputs": [
    {
     "name": "stdout",
     "output_type": "stream",
     "text": [
      "1000/1000 [==============================] - 0s 58us/step\n",
      "/n\n",
      "Test accuracy of word glove model: 74.40%\n"
     ]
    }
   ],
   "source": [
    "\n",
    "\n",
    "glove_results = test_model(glove_model, X_train_seq_trunc, y_train_oh, X_test_seq_trunc, y_test_oh, 3)\n",
    "print('/n')\n",
    "print('Test accuracy of word glove model: {0:.2f}%'.format(glove_results[1]*100))\n",
    "\n"
   ]
  },
  {
   "cell_type": "code",
   "execution_count": 239,
   "metadata": {},
   "outputs": [
    {
     "name": "stdout",
     "output_type": "stream",
     "text": [
      "_________________________________________________________________\n",
      "Layer (type)                 Output Shape              Param #   \n",
      "=================================================================\n",
      "embedding_15 (Embedding)     (None, 41, 100)           1000000   \n",
      "_________________________________________________________________\n",
      "flatten_11 (Flatten)         (None, 4100)              0         \n",
      "_________________________________________________________________\n",
      "dense_17 (Dense)             (None, 2)                 8202      \n",
      "=================================================================\n",
      "Total params: 1,008,202\n",
      "Trainable params: 1,008,202\n",
      "Non-trainable params: 0\n",
      "_________________________________________________________________\n"
     ]
    }
   ],
   "source": [
    "\n",
    "\n",
    "emb_model2 = models.Sequential()\n",
    "emb_model2.add(layers.Embedding(NB_WORDS, GLOVE_DIM, input_length=MAX_LEN))\n",
    "emb_model2.add(layers.Flatten())\n",
    "emb_model2.add(layers.Dense(2, activation='softmax'))\n",
    "emb_model2.summary()\n",
    "\n"
   ]
  },
  {
   "cell_type": "code",
   "execution_count": 240,
   "metadata": {},
   "outputs": [
    {
     "name": "stdout",
     "output_type": "stream",
     "text": [
      "Train on 8100 samples, validate on 900 samples\n",
      "Epoch 1/30\n",
      "8100/8100 [==============================] - 1s 80us/step - loss: 0.6784 - acc: 0.5779 - val_loss: 0.6494 - val_acc: 0.7078\n",
      "Epoch 2/30\n",
      "8100/8100 [==============================] - 0s 11us/step - loss: 0.6077 - acc: 0.7863 - val_loss: 0.5872 - val_acc: 0.7544\n",
      "Epoch 3/30\n",
      "8100/8100 [==============================] - 0s 12us/step - loss: 0.5249 - acc: 0.8314 - val_loss: 0.5301 - val_acc: 0.7700\n",
      "Epoch 4/30\n",
      "8100/8100 [==============================] - 0s 11us/step - loss: 0.4477 - acc: 0.8591 - val_loss: 0.4910 - val_acc: 0.7744\n",
      "Epoch 5/30\n",
      "8100/8100 [==============================] - 0s 12us/step - loss: 0.3852 - acc: 0.8769 - val_loss: 0.4652 - val_acc: 0.7778\n",
      "Epoch 6/30\n",
      "8100/8100 [==============================] - 0s 12us/step - loss: 0.3310 - acc: 0.8956 - val_loss: 0.4483 - val_acc: 0.7789\n",
      "Epoch 7/30\n",
      "8100/8100 [==============================] - 0s 11us/step - loss: 0.2858 - acc: 0.9143 - val_loss: 0.4387 - val_acc: 0.7811\n",
      "Epoch 8/30\n",
      "8100/8100 [==============================] - 0s 11us/step - loss: 0.2470 - acc: 0.9236 - val_loss: 0.4368 - val_acc: 0.7811\n",
      "Epoch 9/30\n",
      "8100/8100 [==============================] - 0s 11us/step - loss: 0.2136 - acc: 0.9373 - val_loss: 0.4373 - val_acc: 0.7811\n",
      "Epoch 10/30\n",
      "8100/8100 [==============================] - 0s 11us/step - loss: 0.1861 - acc: 0.9448 - val_loss: 0.4427 - val_acc: 0.7711\n",
      "Epoch 11/30\n",
      "8100/8100 [==============================] - 0s 11us/step - loss: 0.1624 - acc: 0.9533 - val_loss: 0.4506 - val_acc: 0.7767\n",
      "Epoch 12/30\n",
      "8100/8100 [==============================] - 0s 11us/step - loss: 0.1407 - acc: 0.9615 - val_loss: 0.4620 - val_acc: 0.7756\n",
      "Epoch 13/30\n",
      "8100/8100 [==============================] - 0s 11us/step - loss: 0.1236 - acc: 0.9670 - val_loss: 0.4759 - val_acc: 0.7711\n",
      "Epoch 14/30\n",
      "8100/8100 [==============================] - 0s 12us/step - loss: 0.1090 - acc: 0.9707 - val_loss: 0.4913 - val_acc: 0.7711\n",
      "Epoch 15/30\n",
      "8100/8100 [==============================] - 0s 11us/step - loss: 0.0958 - acc: 0.9758 - val_loss: 0.5108 - val_acc: 0.7633\n",
      "Epoch 16/30\n",
      "8100/8100 [==============================] - 0s 11us/step - loss: 0.0843 - acc: 0.9790 - val_loss: 0.5342 - val_acc: 0.7622\n",
      "Epoch 17/30\n",
      "8100/8100 [==============================] - 0s 11us/step - loss: 0.0751 - acc: 0.9814 - val_loss: 0.5494 - val_acc: 0.7633\n",
      "Epoch 18/30\n",
      "8100/8100 [==============================] - 0s 11us/step - loss: 0.0665 - acc: 0.9840 - val_loss: 0.5716 - val_acc: 0.7611\n",
      "Epoch 19/30\n",
      "8100/8100 [==============================] - 0s 11us/step - loss: 0.0592 - acc: 0.9851 - val_loss: 0.6052 - val_acc: 0.7611\n",
      "Epoch 20/30\n",
      "8100/8100 [==============================] - 0s 12us/step - loss: 0.0542 - acc: 0.9856 - val_loss: 0.6203 - val_acc: 0.7600\n",
      "Epoch 21/30\n",
      "8100/8100 [==============================] - 0s 11us/step - loss: 0.0482 - acc: 0.9870 - val_loss: 0.6462 - val_acc: 0.7522\n",
      "Epoch 22/30\n",
      "8100/8100 [==============================] - 0s 11us/step - loss: 0.0440 - acc: 0.9875 - val_loss: 0.6679 - val_acc: 0.7533\n",
      "Epoch 23/30\n",
      "8100/8100 [==============================] - 0s 11us/step - loss: 0.0401 - acc: 0.9900 - val_loss: 0.6957 - val_acc: 0.7533\n",
      "Epoch 24/30\n",
      "8100/8100 [==============================] - 0s 12us/step - loss: 0.0367 - acc: 0.9896 - val_loss: 0.7196 - val_acc: 0.7533\n",
      "Epoch 25/30\n",
      "8100/8100 [==============================] - 0s 11us/step - loss: 0.0333 - acc: 0.9907 - val_loss: 0.7498 - val_acc: 0.7489\n",
      "Epoch 26/30\n",
      "8100/8100 [==============================] - 0s 11us/step - loss: 0.0306 - acc: 0.9905 - val_loss: 0.7763 - val_acc: 0.7489\n",
      "Epoch 27/30\n",
      "8100/8100 [==============================] - 0s 11us/step - loss: 0.0288 - acc: 0.9914 - val_loss: 0.8044 - val_acc: 0.7511\n",
      "Epoch 28/30\n",
      "8100/8100 [==============================] - 0s 11us/step - loss: 0.0268 - acc: 0.9912 - val_loss: 0.8295 - val_acc: 0.7489\n",
      "Epoch 29/30\n",
      "8100/8100 [==============================] - 0s 11us/step - loss: 0.0248 - acc: 0.9917 - val_loss: 0.8576 - val_acc: 0.7478\n",
      "Epoch 30/30\n",
      "8100/8100 [==============================] - 0s 11us/step - loss: 0.0234 - acc: 0.9919 - val_loss: 0.8824 - val_acc: 0.7478\n"
     ]
    }
   ],
   "source": [
    "\n",
    "\n",
    "emb_history2 = deep_model(emb_model2, X_train_emb, y_train_emb, X_valid_emb, y_valid_emb)\n",
    "\n"
   ]
  },
  {
   "cell_type": "code",
   "execution_count": 241,
   "metadata": {},
   "outputs": [
    {
     "data": {
      "image/png": "[encoded data removed]",
      "text/plain": [
       "<Figure size 432x288 with 1 Axes>"
      ]
     },
     "metadata": {
      "needs_background": "light"
     },
     "output_type": "display_data"
    }
   ],
   "source": [
    "\n",
    "\n",
    "eval_metric(glove_history, 'loss')\n",
    "\n"
   ]
  },
  {
   "cell_type": "code",
   "execution_count": 242,
   "metadata": {},
   "outputs": [
    {
     "data": {
      "image/png": "[encoded data removed]",
      "text/plain": [
       "<Figure size 432x288 with 1 Axes>"
      ]
     },
     "metadata": {
      "needs_background": "light"
     },
     "output_type": "display_data"
    }
   ],
   "source": [
    "\n",
    "\n",
    "eval_metric(glove_history, 'acc')\n",
    "\n"
   ]
  },
  {
   "cell_type": "code",
   "execution_count": 243,
   "metadata": {},
   "outputs": [
    {
     "name": "stdout",
     "output_type": "stream",
     "text": [
      "1000/1000 [==============================] - 0s 39us/step\n",
      "/n\n",
      "Test accuracy of word embedding model 2: 73.70%\n"
     ]
    }
   ],
   "source": [
    "\n",
    "\n",
    "emb_results2 = test_model(emb_model2, X_train_seq_trunc, y_train_oh, X_test_seq_trunc, y_test_oh, 3)\n",
    "print('/n')\n",
    "print('Test accuracy of word embedding model 2: {0:.2f}%'.format(emb_results2[1]*100))\n",
    "\n"
   ]
  },
  {
   "cell_type": "code",
   "execution_count": null,
   "metadata": {},
   "outputs": [],
   "source": []
  }
 ],
 "metadata": {
  "kernelspec": {
   "display_name": "Python 3.6 (GPU)",
   "language": "python",
   "name": "p36tfgpu"
  },
  "language_info": {
   "codemirror_mode": {
    "name": "ipython",
    "version": 3
   },
   "file_extension": ".py",
   "mimetype": "text/x-python",
   "name": "python",
   "nbconvert_exporter": "python",
   "pygments_lexer": "ipython3",
   "version": "3.6.6"
  }
 },
 "nbformat": 4,
 "nbformat_minor": 2
}
